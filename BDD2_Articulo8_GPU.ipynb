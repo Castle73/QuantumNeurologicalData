{
 "cells": [
  {
   "cell_type": "code",
   "execution_count": 1,
   "metadata": {},
   "outputs": [],
   "source": [
    "####################################################################################\n",
    "# Practica con Path                                                                #\n",
    "# PATH  #                                                                          #\n",
    "# 03/12/2023. Hecho por: David Castillo  - Campus Agramonte                        #\n",
    "# https://www.kaggle.com/code/deepak525/dementia-classification-compare-classifiers#\n",
    "# BDD_Longitudinal                                                                 #\n",
    "####################################################################################\n",
    "import numpy as np\n",
    "import pandas as pd\n",
    "import matplotlib.pyplot as plt\n",
    "import seaborn as sns\n",
    "import warnings\n",
    "warnings.filterwarnings('ignore')\n",
    "\n",
    "from sklearn.model_selection import train_test_split\n",
    "from sklearn.linear_model import LogisticRegression\n",
    "from sklearn.metrics import accuracy_score"
   ]
  },
  {
   "cell_type": "code",
   "execution_count": 2,
   "metadata": {
    "tags": []
   },
   "outputs": [
    {
     "name": "stdout",
     "output_type": "stream",
     "text": [
      "Directorio actual: C:\\RESPALDOS\\Investigación\\Artículos\\Articulo8\\BDD\\DataSets\\BDD0\n"
     ]
    }
   ],
   "source": [
    "import os\n",
    "\n",
    "# Especificar el directorio al que deseas cambiar\n",
    "#directory = \"/ruta/al/directorio\"\n",
    "directory = \"C:/RESPALDOS/Investigación/Artículos/Articulo8/BDD/DataSets/BDD0\"\n",
    "\n",
    "# Cambiar al directorio especificado\n",
    "os.chdir(directory)\n",
    "\n",
    "# Verificar el directorio actual\n",
    "current_directory = os.getcwd()\n",
    "print(\"Directorio actual:\", current_directory)"
   ]
  },
  {
   "cell_type": "code",
   "execution_count": 3,
   "metadata": {
    "tags": []
   },
   "outputs": [
    {
     "name": "stdout",
     "output_type": "stream",
     "text": [
      "  ID;M/F;Hand;Age;Educ;SES;MMSE;CDR;eTIV;nWBV;ASF;Delay\n",
      "0  OAS1_0001_MR1;F;R;74;2;3;29;0;1344;0.743;1.306...   \n",
      "1  OAS1_0002_MR1;F;R;55;4;1;29;0;1147;0.81;1.531;N/A   \n",
      "2  OAS1_0003_MR1;F;R;73;4;3;27;0.5;1454;0.708;1.2...   \n",
      "3      OAS1_0004_MR1;M;R;28;;;;;1588;0.803;1.105;N/A   \n",
      "4       OAS1_0005_MR1;M;R;18;;;;;1737;0.848;1.01;N/A   \n"
     ]
    }
   ],
   "source": [
    "import pandas as pd\n",
    "# Cargar el archivo CSV\n",
    "filename = \"BDD_Sectional.csv\"\n",
    "data = pd.read_csv(filename)\n",
    "# Procesar los datos\n",
    "# Por ejemplo, imprimir las primeras filas\n",
    "print(data.head())"
   ]
  },
  {
   "cell_type": "code",
   "execution_count": 5,
   "metadata": {},
   "outputs": [
    {
     "name": "stdout",
     "output_type": "stream",
     "text": [
      "Tota Rows and Columns (Rows,Columns) :  (436, 1)\n"
     ]
    },
    {
     "data": {
      "text/html": [
       "<div>\n",
       "<style scoped>\n",
       "    .dataframe tbody tr th:only-of-type {\n",
       "        vertical-align: middle;\n",
       "    }\n",
       "\n",
       "    .dataframe tbody tr th {\n",
       "        vertical-align: top;\n",
       "    }\n",
       "\n",
       "    .dataframe thead th {\n",
       "        text-align: right;\n",
       "    }\n",
       "</style>\n",
       "<table border=\"1\" class=\"dataframe\">\n",
       "  <thead>\n",
       "    <tr style=\"text-align: right;\">\n",
       "      <th></th>\n",
       "      <th>ID;M/F;Hand;Age;Educ;SES;MMSE;CDR;eTIV;nWBV;ASF;Delay</th>\n",
       "    </tr>\n",
       "  </thead>\n",
       "  <tbody>\n",
       "    <tr>\n",
       "      <th>0</th>\n",
       "      <td>OAS1_0001_MR1;F;R;74;2;3;29;0;1344;0.743;1.306...</td>\n",
       "    </tr>\n",
       "    <tr>\n",
       "      <th>1</th>\n",
       "      <td>OAS1_0002_MR1;F;R;55;4;1;29;0;1147;0.81;1.531;N/A</td>\n",
       "    </tr>\n",
       "    <tr>\n",
       "      <th>2</th>\n",
       "      <td>OAS1_0003_MR1;F;R;73;4;3;27;0.5;1454;0.708;1.2...</td>\n",
       "    </tr>\n",
       "    <tr>\n",
       "      <th>3</th>\n",
       "      <td>OAS1_0004_MR1;M;R;28;;;;;1588;0.803;1.105;N/A</td>\n",
       "    </tr>\n",
       "    <tr>\n",
       "      <th>4</th>\n",
       "      <td>OAS1_0005_MR1;M;R;18;;;;;1737;0.848;1.01;N/A</td>\n",
       "    </tr>\n",
       "    <tr>\n",
       "      <th>5</th>\n",
       "      <td>OAS1_0006_MR1;F;R;24;;;;;1131;0.862;1.551;N/A</td>\n",
       "    </tr>\n",
       "    <tr>\n",
       "      <th>6</th>\n",
       "      <td>OAS1_0007_MR1;M;R;21;;;;;1516;0.83;1.157;N/A</td>\n",
       "    </tr>\n",
       "    <tr>\n",
       "      <th>7</th>\n",
       "      <td>OAS1_0009_MR1;F;R;20;;;;;1505;0.843;1.166;N/A</td>\n",
       "    </tr>\n",
       "    <tr>\n",
       "      <th>8</th>\n",
       "      <td>OAS1_0010_MR1;M;R;74;5;2;30;0;1636;0.689;1.073...</td>\n",
       "    </tr>\n",
       "    <tr>\n",
       "      <th>9</th>\n",
       "      <td>OAS1_0011_MR1;F;R;52;3;2;30;0;1321;0.827;1.329...</td>\n",
       "    </tr>\n",
       "  </tbody>\n",
       "</table>\n",
       "</div>"
      ],
      "text/plain": [
       "  ID;M/F;Hand;Age;Educ;SES;MMSE;CDR;eTIV;nWBV;ASF;Delay\n",
       "0  OAS1_0001_MR1;F;R;74;2;3;29;0;1344;0.743;1.306...   \n",
       "1  OAS1_0002_MR1;F;R;55;4;1;29;0;1147;0.81;1.531;N/A   \n",
       "2  OAS1_0003_MR1;F;R;73;4;3;27;0.5;1454;0.708;1.2...   \n",
       "3      OAS1_0004_MR1;M;R;28;;;;;1588;0.803;1.105;N/A   \n",
       "4       OAS1_0005_MR1;M;R;18;;;;;1737;0.848;1.01;N/A   \n",
       "5      OAS1_0006_MR1;F;R;24;;;;;1131;0.862;1.551;N/A   \n",
       "6       OAS1_0007_MR1;M;R;21;;;;;1516;0.83;1.157;N/A   \n",
       "7      OAS1_0009_MR1;F;R;20;;;;;1505;0.843;1.166;N/A   \n",
       "8  OAS1_0010_MR1;M;R;74;5;2;30;0;1636;0.689;1.073...   \n",
       "9  OAS1_0011_MR1;F;R;52;3;2;30;0;1321;0.827;1.329...   "
      ]
     },
     "execution_count": 5,
     "metadata": {},
     "output_type": "execute_result"
    }
   ],
   "source": [
    "print(\"Tota Rows and Columns (Rows,Columns) : \",data.shape)\n",
    "#print first five rows of the dataset\n",
    "data.head(10)"
   ]
  },
  {
   "cell_type": "code",
   "execution_count": 6,
   "metadata": {
    "tags": []
   },
   "outputs": [
    {
     "name": "stdout",
     "output_type": "stream",
     "text": [
      "<class 'pandas.core.frame.DataFrame'>\n",
      "RangeIndex: 436 entries, 0 to 435\n",
      "Data columns (total 1 columns):\n",
      " #   Column                                                 Non-Null Count  Dtype \n",
      "---  ------                                                 --------------  ----- \n",
      " 0   ID;M/F;Hand;Age;Educ;SES;MMSE;CDR;eTIV;nWBV;ASF;Delay  436 non-null    object\n",
      "dtypes: object(1)\n",
      "memory usage: 3.5+ KB\n"
     ]
    }
   ],
   "source": [
    "# Obtener información sobre los datos del archivo\n",
    "data.info()"
   ]
  },
  {
   "cell_type": "code",
   "execution_count": 7,
   "metadata": {
    "tags": []
   },
   "outputs": [
    {
     "name": "stdout",
     "output_type": "stream",
     "text": [
      "    ID;M/F;Hand;Age;Educ;SES;MMSE;CDR;eTIV;nWBV;ASF;Delay\n",
      "0    OAS1_0001_MR1;F;R;74;2;3;29;0;1344;0.743;1.306...   \n",
      "1    OAS1_0002_MR1;F;R;55;4;1;29;0;1147;0.81;1.531;N/A   \n",
      "2    OAS1_0003_MR1;F;R;73;4;3;27;0.5;1454;0.708;1.2...   \n",
      "3        OAS1_0004_MR1;M;R;28;;;;;1588;0.803;1.105;N/A   \n",
      "4         OAS1_0005_MR1;M;R;18;;;;;1737;0.848;1.01;N/A   \n",
      "..                                                 ...   \n",
      "431        OAS1_0285_MR2;M;R;20;;;;;1469;0.847;1.195;2   \n",
      "432        OAS1_0353_MR2;M;R;22;;;;;1684;0.79;1.042;40   \n",
      "433       OAS1_0368_MR2;M;R;22;;;;;1580;0.856;1.111;89   \n",
      "434         OAS1_0379_MR2;F;R;20;;;;;1262;0.861;1.39;2   \n",
      "435       OAS1_0395_MR2;F;R;26;;;;;1283;0.834;1.368;39   \n",
      "\n",
      "[436 rows x 1 columns]\n"
     ]
    }
   ],
   "source": [
    "# Obtener información sobre los datos del archivo\n",
    "description = data\n",
    "# (Aquí puedes proporcionar una descripción de la base de datos)\n",
    "# Imprimir la descripción\n",
    "print(description)"
   ]
  },
  {
   "cell_type": "code",
   "execution_count": 8,
   "metadata": {
    "tags": []
   },
   "outputs": [
    {
     "name": "stdout",
     "output_type": "stream",
     "text": [
      "<class 'pandas.core.frame.DataFrame'>\n",
      "RangeIndex: 436 entries, 0 to 435\n",
      "Data columns (total 1 columns):\n",
      " #   Column                                                 Non-Null Count  Dtype \n",
      "---  ------                                                 --------------  ----- \n",
      " 0   ID;M/F;Hand;Age;Educ;SES;MMSE;CDR;eTIV;nWBV;ASF;Delay  436 non-null    object\n",
      "dtypes: object(1)\n",
      "memory usage: 3.5+ KB\n"
     ]
    },
    {
     "ename": "ValueError",
     "evalue": "figure size must be positive finite not (0.0, 0.0)",
     "output_type": "error",
     "traceback": [
      "\u001b[1;31m---------------------------------------------------------------------------\u001b[0m",
      "\u001b[1;31mValueError\u001b[0m                                Traceback (most recent call last)",
      "\u001b[1;32m<ipython-input-8-1e78bb8a0286>\u001b[0m in \u001b[0;36m<module>\u001b[1;34m\u001b[0m\n\u001b[0;32m     14\u001b[0m \u001b[0mdf\u001b[0m\u001b[1;33m[\u001b[0m\u001b[1;34m\"Group\"\u001b[0m\u001b[1;33m]\u001b[0m \u001b[1;33m=\u001b[0m \u001b[0mpd\u001b[0m\u001b[1;33m.\u001b[0m\u001b[0mSeries\u001b[0m\u001b[1;33m(\u001b[0m\u001b[1;33m[\u001b[0m\u001b[1;34m'Age'\u001b[0m\u001b[1;33m,\u001b[0m\u001b[1;34m'Educ'\u001b[0m\u001b[1;33m,\u001b[0m\u001b[1;34m'SES'\u001b[0m\u001b[1;33m,\u001b[0m\u001b[1;34m'MMSE'\u001b[0m\u001b[1;33m,\u001b[0m\u001b[1;34m'CDR'\u001b[0m\u001b[1;33m,\u001b[0m\u001b[1;34m'eTIV'\u001b[0m\u001b[1;33m,\u001b[0m\u001b[1;34m'nWBV'\u001b[0m\u001b[1;33m,\u001b[0m\u001b[1;34m'ASF'\u001b[0m\u001b[1;33m]\u001b[0m\u001b[1;33m)\u001b[0m  \u001b[1;31m# Reemplaza 'tus_datos_target' con los datos de tus etiquetas de clase\u001b[0m\u001b[1;33m\u001b[0m\u001b[1;33m\u001b[0m\u001b[0m\n\u001b[0;32m     15\u001b[0m \u001b[1;31m#df[\"Group\"] = df[\"Group\"]\u001b[0m\u001b[1;33m\u001b[0m\u001b[1;33m\u001b[0m\u001b[1;33m\u001b[0m\u001b[0m\n\u001b[1;32m---> 16\u001b[1;33m \u001b[0msns\u001b[0m\u001b[1;33m.\u001b[0m\u001b[0mpairplot\u001b[0m\u001b[1;33m(\u001b[0m\u001b[0mdf\u001b[0m\u001b[1;33m,\u001b[0m \u001b[0mhue\u001b[0m\u001b[1;33m=\u001b[0m\u001b[1;34m\"Group\"\u001b[0m\u001b[1;33m,\u001b[0m \u001b[0mpalette\u001b[0m\u001b[1;33m=\u001b[0m\u001b[1;34m\"tab10\"\u001b[0m\u001b[1;33m)\u001b[0m\u001b[1;33m\u001b[0m\u001b[1;33m\u001b[0m\u001b[0m\n\u001b[0m",
      "\u001b[1;32m~\\anaconda3\\envs\\entornoGPU\\lib\\site-packages\\seaborn\\axisgrid.py\u001b[0m in \u001b[0;36mpairplot\u001b[1;34m(data, hue, hue_order, palette, vars, x_vars, y_vars, kind, diag_kind, markers, height, aspect, corner, dropna, plot_kws, diag_kws, grid_kws, size)\u001b[0m\n\u001b[0;32m   2084\u001b[0m     grid = PairGrid(data, vars=vars, x_vars=x_vars, y_vars=y_vars, hue=hue,\n\u001b[0;32m   2085\u001b[0m                     \u001b[0mhue_order\u001b[0m\u001b[1;33m=\u001b[0m\u001b[0mhue_order\u001b[0m\u001b[1;33m,\u001b[0m \u001b[0mpalette\u001b[0m\u001b[1;33m=\u001b[0m\u001b[0mpalette\u001b[0m\u001b[1;33m,\u001b[0m \u001b[0mcorner\u001b[0m\u001b[1;33m=\u001b[0m\u001b[0mcorner\u001b[0m\u001b[1;33m,\u001b[0m\u001b[1;33m\u001b[0m\u001b[1;33m\u001b[0m\u001b[0m\n\u001b[1;32m-> 2086\u001b[1;33m                     height=height, aspect=aspect, dropna=dropna, **grid_kws)\n\u001b[0m\u001b[0;32m   2087\u001b[0m \u001b[1;33m\u001b[0m\u001b[0m\n\u001b[0;32m   2088\u001b[0m     \u001b[1;31m# Add the markers here as PairGrid has figured out how many levels of the\u001b[0m\u001b[1;33m\u001b[0m\u001b[1;33m\u001b[0m\u001b[1;33m\u001b[0m\u001b[0m\n",
      "\u001b[1;32m~\\anaconda3\\envs\\entornoGPU\\lib\\site-packages\\seaborn\\axisgrid.py\u001b[0m in \u001b[0;36m__init__\u001b[1;34m(self, data, hue, hue_order, palette, hue_kws, vars, x_vars, y_vars, corner, diag_sharey, height, aspect, layout_pad, despine, dropna, size)\u001b[0m\n\u001b[0;32m   1288\u001b[0m                                  \u001b[0mfigsize\u001b[0m\u001b[1;33m=\u001b[0m\u001b[0mfigsize\u001b[0m\u001b[1;33m,\u001b[0m\u001b[1;33m\u001b[0m\u001b[1;33m\u001b[0m\u001b[0m\n\u001b[0;32m   1289\u001b[0m                                  \u001b[0msharex\u001b[0m\u001b[1;33m=\u001b[0m\u001b[1;34m\"col\"\u001b[0m\u001b[1;33m,\u001b[0m \u001b[0msharey\u001b[0m\u001b[1;33m=\u001b[0m\u001b[1;34m\"row\"\u001b[0m\u001b[1;33m,\u001b[0m\u001b[1;33m\u001b[0m\u001b[1;33m\u001b[0m\u001b[0m\n\u001b[1;32m-> 1290\u001b[1;33m                                  squeeze=False)\n\u001b[0m\u001b[0;32m   1291\u001b[0m \u001b[1;33m\u001b[0m\u001b[0m\n\u001b[0;32m   1292\u001b[0m         \u001b[1;31m# Possibly remove upper axes to make a corner grid\u001b[0m\u001b[1;33m\u001b[0m\u001b[1;33m\u001b[0m\u001b[1;33m\u001b[0m\u001b[0m\n",
      "\u001b[1;32m~\\anaconda3\\envs\\entornoGPU\\lib\\site-packages\\matplotlib\\pyplot.py\u001b[0m in \u001b[0;36msubplots\u001b[1;34m(nrows, ncols, sharex, sharey, squeeze, subplot_kw, gridspec_kw, **fig_kw)\u001b[0m\n\u001b[0;32m   1175\u001b[0m \u001b[1;33m\u001b[0m\u001b[0m\n\u001b[0;32m   1176\u001b[0m     \"\"\"\n\u001b[1;32m-> 1177\u001b[1;33m     \u001b[0mfig\u001b[0m \u001b[1;33m=\u001b[0m \u001b[0mfigure\u001b[0m\u001b[1;33m(\u001b[0m\u001b[1;33m**\u001b[0m\u001b[0mfig_kw\u001b[0m\u001b[1;33m)\u001b[0m\u001b[1;33m\u001b[0m\u001b[1;33m\u001b[0m\u001b[0m\n\u001b[0m\u001b[0;32m   1178\u001b[0m     axs = fig.subplots(nrows=nrows, ncols=ncols, sharex=sharex, sharey=sharey,\n\u001b[0;32m   1179\u001b[0m                        \u001b[0msqueeze\u001b[0m\u001b[1;33m=\u001b[0m\u001b[0msqueeze\u001b[0m\u001b[1;33m,\u001b[0m \u001b[0msubplot_kw\u001b[0m\u001b[1;33m=\u001b[0m\u001b[0msubplot_kw\u001b[0m\u001b[1;33m,\u001b[0m\u001b[1;33m\u001b[0m\u001b[1;33m\u001b[0m\u001b[0m\n",
      "\u001b[1;32m~\\anaconda3\\envs\\entornoGPU\\lib\\site-packages\\matplotlib\\pyplot.py\u001b[0m in \u001b[0;36mfigure\u001b[1;34m(num, figsize, dpi, facecolor, edgecolor, frameon, FigureClass, clear, **kwargs)\u001b[0m\n\u001b[0;32m    544\u001b[0m                                         \u001b[0mframeon\u001b[0m\u001b[1;33m=\u001b[0m\u001b[0mframeon\u001b[0m\u001b[1;33m,\u001b[0m\u001b[1;33m\u001b[0m\u001b[1;33m\u001b[0m\u001b[0m\n\u001b[0;32m    545\u001b[0m                                         \u001b[0mFigureClass\u001b[0m\u001b[1;33m=\u001b[0m\u001b[0mFigureClass\u001b[0m\u001b[1;33m,\u001b[0m\u001b[1;33m\u001b[0m\u001b[1;33m\u001b[0m\u001b[0m\n\u001b[1;32m--> 546\u001b[1;33m                                         **kwargs)\n\u001b[0m\u001b[0;32m    547\u001b[0m \u001b[1;33m\u001b[0m\u001b[0m\n\u001b[0;32m    548\u001b[0m         \u001b[1;32mif\u001b[0m \u001b[0mfigLabel\u001b[0m\u001b[1;33m:\u001b[0m\u001b[1;33m\u001b[0m\u001b[1;33m\u001b[0m\u001b[0m\n",
      "\u001b[1;32m~\\anaconda3\\envs\\entornoGPU\\lib\\site-packages\\matplotlib\\backend_bases.py\u001b[0m in \u001b[0;36mnew_figure_manager\u001b[1;34m(cls, num, *args, **kwargs)\u001b[0m\n\u001b[0;32m   3355\u001b[0m         \u001b[1;32mfrom\u001b[0m \u001b[0mmatplotlib\u001b[0m\u001b[1;33m.\u001b[0m\u001b[0mfigure\u001b[0m \u001b[1;32mimport\u001b[0m \u001b[0mFigure\u001b[0m\u001b[1;33m\u001b[0m\u001b[1;33m\u001b[0m\u001b[0m\n\u001b[0;32m   3356\u001b[0m         \u001b[0mfig_cls\u001b[0m \u001b[1;33m=\u001b[0m \u001b[0mkwargs\u001b[0m\u001b[1;33m.\u001b[0m\u001b[0mpop\u001b[0m\u001b[1;33m(\u001b[0m\u001b[1;34m'FigureClass'\u001b[0m\u001b[1;33m,\u001b[0m \u001b[0mFigure\u001b[0m\u001b[1;33m)\u001b[0m\u001b[1;33m\u001b[0m\u001b[1;33m\u001b[0m\u001b[0m\n\u001b[1;32m-> 3357\u001b[1;33m         \u001b[0mfig\u001b[0m \u001b[1;33m=\u001b[0m \u001b[0mfig_cls\u001b[0m\u001b[1;33m(\u001b[0m\u001b[1;33m*\u001b[0m\u001b[0margs\u001b[0m\u001b[1;33m,\u001b[0m \u001b[1;33m**\u001b[0m\u001b[0mkwargs\u001b[0m\u001b[1;33m)\u001b[0m\u001b[1;33m\u001b[0m\u001b[1;33m\u001b[0m\u001b[0m\n\u001b[0m\u001b[0;32m   3358\u001b[0m         \u001b[1;32mreturn\u001b[0m \u001b[0mcls\u001b[0m\u001b[1;33m.\u001b[0m\u001b[0mnew_figure_manager_given_figure\u001b[0m\u001b[1;33m(\u001b[0m\u001b[0mnum\u001b[0m\u001b[1;33m,\u001b[0m \u001b[0mfig\u001b[0m\u001b[1;33m)\u001b[0m\u001b[1;33m\u001b[0m\u001b[1;33m\u001b[0m\u001b[0m\n\u001b[0;32m   3359\u001b[0m \u001b[1;33m\u001b[0m\u001b[0m\n",
      "\u001b[1;32m~\\anaconda3\\envs\\entornoGPU\\lib\\site-packages\\matplotlib\\figure.py\u001b[0m in \u001b[0;36m__init__\u001b[1;34m(self, figsize, dpi, facecolor, edgecolor, linewidth, frameon, subplotpars, tight_layout, constrained_layout)\u001b[0m\n\u001b[0;32m    347\u001b[0m \u001b[1;33m\u001b[0m\u001b[0m\n\u001b[0;32m    348\u001b[0m         \u001b[1;32mif\u001b[0m \u001b[1;32mnot\u001b[0m \u001b[0mnp\u001b[0m\u001b[1;33m.\u001b[0m\u001b[0misfinite\u001b[0m\u001b[1;33m(\u001b[0m\u001b[0mfigsize\u001b[0m\u001b[1;33m)\u001b[0m\u001b[1;33m.\u001b[0m\u001b[0mall\u001b[0m\u001b[1;33m(\u001b[0m\u001b[1;33m)\u001b[0m \u001b[1;32mor\u001b[0m \u001b[1;33m(\u001b[0m\u001b[0mnp\u001b[0m\u001b[1;33m.\u001b[0m\u001b[0marray\u001b[0m\u001b[1;33m(\u001b[0m\u001b[0mfigsize\u001b[0m\u001b[1;33m)\u001b[0m \u001b[1;33m<=\u001b[0m \u001b[1;36m0\u001b[0m\u001b[1;33m)\u001b[0m\u001b[1;33m.\u001b[0m\u001b[0many\u001b[0m\u001b[1;33m(\u001b[0m\u001b[1;33m)\u001b[0m\u001b[1;33m:\u001b[0m\u001b[1;33m\u001b[0m\u001b[1;33m\u001b[0m\u001b[0m\n\u001b[1;32m--> 349\u001b[1;33m             raise ValueError('figure size must be positive finite not '\n\u001b[0m\u001b[0;32m    350\u001b[0m                              f'{figsize}')\n\u001b[0;32m    351\u001b[0m         \u001b[0mself\u001b[0m\u001b[1;33m.\u001b[0m\u001b[0mbbox_inches\u001b[0m \u001b[1;33m=\u001b[0m \u001b[0mBbox\u001b[0m\u001b[1;33m.\u001b[0m\u001b[0mfrom_bounds\u001b[0m\u001b[1;33m(\u001b[0m\u001b[1;36m0\u001b[0m\u001b[1;33m,\u001b[0m \u001b[1;36m0\u001b[0m\u001b[1;33m,\u001b[0m \u001b[1;33m*\u001b[0m\u001b[0mfigsize\u001b[0m\u001b[1;33m)\u001b[0m\u001b[1;33m\u001b[0m\u001b[1;33m\u001b[0m\u001b[0m\n",
      "\u001b[1;31mValueError\u001b[0m: figure size must be positive finite not (0.0, 0.0)"
     ]
    }
   ],
   "source": [
    "import pandas as pd\n",
    "import seaborn as sns\n",
    "import numpy as np\n",
    "\n",
    "# Crear un DataFrame con las características y etiquetas\n",
    "#df = pd.DataFrame(np.column_stack((features.values, labels.values)), columns=['Age','EDUC','SES','MMSE','CDR','eTIV','nWBV','ASF','Group'])\n",
    "#df = pd.DataFrame(labels, columns=features)\n",
    "#df[\"Group\"] = pd.Series(features)\n",
    "\n",
    "# Crear el DataFrame a partir de los datos\n",
    "df = pd.DataFrame(data)\n",
    "df.info()\n",
    "# Agregar la columna \"class\" al DataFrame\n",
    "df[\"Group\"] = pd.Series(['Age','Educ','SES','MMSE','CDR','eTIV','nWBV','ASF'])  # Reemplaza 'tus_datos_target' con los datos de tus etiquetas de clase\n",
    "#df[\"Group\"] = df[\"Group\"]\n",
    "sns.pairplot(df, hue=\"Group\", palette=\"tab10\")\n"
   ]
  },
  {
   "cell_type": "code",
   "execution_count": 49,
   "metadata": {},
   "outputs": [
    {
     "ename": "KeyError",
     "evalue": "\"None of [Index(['Age', 'Educ', 'SES', 'MMSE', 'CDR', 'eTIV', 'nWBV', 'ASF'], dtype='object')] are in the [columns]\"",
     "output_type": "error",
     "traceback": [
      "\u001b[1;31m---------------------------------------------------------------------------\u001b[0m",
      "\u001b[1;31mKeyError\u001b[0m                                  Traceback (most recent call last)",
      "\u001b[1;32m<ipython-input-49-4a05763fa7ca>\u001b[0m in \u001b[0;36m<module>\u001b[1;34m\u001b[0m\n\u001b[0;32m      7\u001b[0m \u001b[1;31m#df.info()\u001b[0m\u001b[1;33m\u001b[0m\u001b[1;33m\u001b[0m\u001b[1;33m\u001b[0m\u001b[0m\n\u001b[0;32m      8\u001b[0m \u001b[0mx\u001b[0m\u001b[1;33m=\u001b[0m\u001b[0mdf\u001b[0m\u001b[1;33m.\u001b[0m\u001b[0mfillna\u001b[0m\u001b[1;33m(\u001b[0m\u001b[1;34m''\u001b[0m\u001b[1;33m)\u001b[0m\u001b[1;33m\u001b[0m\u001b[1;33m\u001b[0m\u001b[0m\n\u001b[1;32m----> 9\u001b[1;33m \u001b[0msns_plot\u001b[0m \u001b[1;33m=\u001b[0m \u001b[0msns\u001b[0m\u001b[1;33m.\u001b[0m\u001b[0mpairplot\u001b[0m\u001b[1;33m(\u001b[0m\u001b[0mx\u001b[0m\u001b[1;33m[\u001b[0m\u001b[0mcols\u001b[0m\u001b[1;33m]\u001b[0m\u001b[1;33m)\u001b[0m\u001b[1;33m\u001b[0m\u001b[1;33m\u001b[0m\u001b[0m\n\u001b[0m",
      "\u001b[1;32m~\\anaconda3\\envs\\entornoGPU\\lib\\site-packages\\pandas\\core\\frame.py\u001b[0m in \u001b[0;36m__getitem__\u001b[1;34m(self, key)\u001b[0m\n\u001b[0;32m   2804\u001b[0m             \u001b[1;32mif\u001b[0m \u001b[0mis_iterator\u001b[0m\u001b[1;33m(\u001b[0m\u001b[0mkey\u001b[0m\u001b[1;33m)\u001b[0m\u001b[1;33m:\u001b[0m\u001b[1;33m\u001b[0m\u001b[1;33m\u001b[0m\u001b[0m\n\u001b[0;32m   2805\u001b[0m                 \u001b[0mkey\u001b[0m \u001b[1;33m=\u001b[0m \u001b[0mlist\u001b[0m\u001b[1;33m(\u001b[0m\u001b[0mkey\u001b[0m\u001b[1;33m)\u001b[0m\u001b[1;33m\u001b[0m\u001b[1;33m\u001b[0m\u001b[0m\n\u001b[1;32m-> 2806\u001b[1;33m             \u001b[0mindexer\u001b[0m \u001b[1;33m=\u001b[0m \u001b[0mself\u001b[0m\u001b[1;33m.\u001b[0m\u001b[0mloc\u001b[0m\u001b[1;33m.\u001b[0m\u001b[0m_get_listlike_indexer\u001b[0m\u001b[1;33m(\u001b[0m\u001b[0mkey\u001b[0m\u001b[1;33m,\u001b[0m \u001b[0maxis\u001b[0m\u001b[1;33m=\u001b[0m\u001b[1;36m1\u001b[0m\u001b[1;33m,\u001b[0m \u001b[0mraise_missing\u001b[0m\u001b[1;33m=\u001b[0m\u001b[1;32mTrue\u001b[0m\u001b[1;33m)\u001b[0m\u001b[1;33m[\u001b[0m\u001b[1;36m1\u001b[0m\u001b[1;33m]\u001b[0m\u001b[1;33m\u001b[0m\u001b[1;33m\u001b[0m\u001b[0m\n\u001b[0m\u001b[0;32m   2807\u001b[0m \u001b[1;33m\u001b[0m\u001b[0m\n\u001b[0;32m   2808\u001b[0m         \u001b[1;31m# take() does not accept boolean indexers\u001b[0m\u001b[1;33m\u001b[0m\u001b[1;33m\u001b[0m\u001b[1;33m\u001b[0m\u001b[0m\n",
      "\u001b[1;32m~\\anaconda3\\envs\\entornoGPU\\lib\\site-packages\\pandas\\core\\indexing.py\u001b[0m in \u001b[0;36m_get_listlike_indexer\u001b[1;34m(self, key, axis, raise_missing)\u001b[0m\n\u001b[0;32m   1551\u001b[0m \u001b[1;33m\u001b[0m\u001b[0m\n\u001b[0;32m   1552\u001b[0m         self._validate_read_indexer(\n\u001b[1;32m-> 1553\u001b[1;33m             \u001b[0mkeyarr\u001b[0m\u001b[1;33m,\u001b[0m \u001b[0mindexer\u001b[0m\u001b[1;33m,\u001b[0m \u001b[0mo\u001b[0m\u001b[1;33m.\u001b[0m\u001b[0m_get_axis_number\u001b[0m\u001b[1;33m(\u001b[0m\u001b[0maxis\u001b[0m\u001b[1;33m)\u001b[0m\u001b[1;33m,\u001b[0m \u001b[0mraise_missing\u001b[0m\u001b[1;33m=\u001b[0m\u001b[0mraise_missing\u001b[0m\u001b[1;33m\u001b[0m\u001b[1;33m\u001b[0m\u001b[0m\n\u001b[0m\u001b[0;32m   1554\u001b[0m         )\n\u001b[0;32m   1555\u001b[0m         \u001b[1;32mreturn\u001b[0m \u001b[0mkeyarr\u001b[0m\u001b[1;33m,\u001b[0m \u001b[0mindexer\u001b[0m\u001b[1;33m\u001b[0m\u001b[1;33m\u001b[0m\u001b[0m\n",
      "\u001b[1;32m~\\anaconda3\\envs\\entornoGPU\\lib\\site-packages\\pandas\\core\\indexing.py\u001b[0m in \u001b[0;36m_validate_read_indexer\u001b[1;34m(self, key, indexer, axis, raise_missing)\u001b[0m\n\u001b[0;32m   1638\u001b[0m             \u001b[1;32mif\u001b[0m \u001b[0mmissing\u001b[0m \u001b[1;33m==\u001b[0m \u001b[0mlen\u001b[0m\u001b[1;33m(\u001b[0m\u001b[0mindexer\u001b[0m\u001b[1;33m)\u001b[0m\u001b[1;33m:\u001b[0m\u001b[1;33m\u001b[0m\u001b[1;33m\u001b[0m\u001b[0m\n\u001b[0;32m   1639\u001b[0m                 \u001b[0maxis_name\u001b[0m \u001b[1;33m=\u001b[0m \u001b[0mself\u001b[0m\u001b[1;33m.\u001b[0m\u001b[0mobj\u001b[0m\u001b[1;33m.\u001b[0m\u001b[0m_get_axis_name\u001b[0m\u001b[1;33m(\u001b[0m\u001b[0maxis\u001b[0m\u001b[1;33m)\u001b[0m\u001b[1;33m\u001b[0m\u001b[1;33m\u001b[0m\u001b[0m\n\u001b[1;32m-> 1640\u001b[1;33m                 \u001b[1;32mraise\u001b[0m \u001b[0mKeyError\u001b[0m\u001b[1;33m(\u001b[0m\u001b[1;34mf\"None of [{key}] are in the [{axis_name}]\"\u001b[0m\u001b[1;33m)\u001b[0m\u001b[1;33m\u001b[0m\u001b[1;33m\u001b[0m\u001b[0m\n\u001b[0m\u001b[0;32m   1641\u001b[0m \u001b[1;33m\u001b[0m\u001b[0m\n\u001b[0;32m   1642\u001b[0m             \u001b[1;31m# We (temporarily) allow for some missing keys with .loc, except in\u001b[0m\u001b[1;33m\u001b[0m\u001b[1;33m\u001b[0m\u001b[1;33m\u001b[0m\u001b[0m\n",
      "\u001b[1;31mKeyError\u001b[0m: \"None of [Index(['Age', 'Educ', 'SES', 'MMSE', 'CDR', 'eTIV', 'nWBV', 'ASF'], dtype='object')] are in the [columns]\""
     ]
    }
   ],
   "source": [
    "from pylab import rcParams\n",
    "import pandas as pd\n",
    "rcParams['figure.figsize'] = 8,5\n",
    "#cols = ['Age','MR Delay', 'EDUC', 'SES', 'MMSE', 'CDR','eTIV','nWBV','ASF']\n",
    "cols = ['Age','Educ', 'SES', 'MMSE', 'CDR','eTIV','nWBV','ASF']\n",
    "df = pd.DataFrame(data)\n",
    "#df.info()\n",
    "x=df.fillna('')\n",
    "sns_plot = sns.pairplot(x[cols])"
   ]
  },
  {
   "cell_type": "code",
   "execution_count": 30,
   "metadata": {},
   "outputs": [
    {
     "data": {
      "text/plain": [
       "ID               0\n",
       "Group            0\n",
       "M/F              0\n",
       "Hand             0\n",
       "Age              0\n",
       "Educ             0\n",
       "SES              0\n",
       "MMSE             0\n",
       "CDR              0\n",
       "eTIV             0\n",
       "nWBV             0\n",
       "ASF              0\n",
       "Delay            0\n",
       "Group_encoder    0\n",
       "dtype: int64"
      ]
     },
     "execution_count": 30,
     "metadata": {},
     "output_type": "execute_result"
    }
   ],
   "source": [
    "data.isna().sum()"
   ]
  },
  {
   "cell_type": "code",
   "execution_count": 31,
   "metadata": {
    "tags": []
   },
   "outputs": [
    {
     "name": "stdout",
     "output_type": "stream",
     "text": [
      "                ID        Group M/F Hand  Age  Educ  SES  MMSE  CDR  eTIV  \\\n",
      "0    OAS1_0001_MR1  Nondemented   F    R   74   2.0  3.0  29.0  0.0  1344   \n",
      "1    OAS1_0002_MR1  Nondemented   F    R   55   4.0  1.0  29.0  0.0  1147   \n",
      "2    OAS1_0003_MR1     Demented   F    R   73   4.0  3.0  27.0  0.5  1454   \n",
      "3    OAS1_0004_MR1     Demented   M    R   28   NaN  NaN   NaN  NaN  1588   \n",
      "4    OAS1_0005_MR1     Demented   M    R   18   NaN  NaN   NaN  NaN  1737   \n",
      "..             ...          ...  ..  ...  ...   ...  ...   ...  ...   ...   \n",
      "431  OAS1_0285_MR2    Converted   M    R   20   NaN  NaN   NaN  NaN  1469   \n",
      "432  OAS1_0353_MR2    Converted   M    R   22   NaN  NaN   NaN  NaN  1684   \n",
      "433  OAS1_0368_MR2     Demented   M    R   22   NaN  NaN   NaN  NaN  1580   \n",
      "434  OAS1_0379_MR2     Demented   F    R   20   NaN  NaN   NaN  NaN  1262   \n",
      "435  OAS1_0395_MR2  Nondemented   F    R   26   NaN  NaN   NaN  NaN  1283   \n",
      "\n",
      "      nWBV    ASF  Delay  Group_encoder  \n",
      "0    0.743  1,306    NaN              2  \n",
      "1    0.810  1,531    NaN              2  \n",
      "2    0.708  1,207    NaN              1  \n",
      "3    0.803  1,105    NaN              1  \n",
      "4    0.848   1.01    NaN              1  \n",
      "..     ...    ...    ...            ...  \n",
      "431  0.847  1,195    2.0              0  \n",
      "432  0.790  1,042   40.0              0  \n",
      "433  0.856  1,111   89.0              1  \n",
      "434  0.861   1.39    2.0              1  \n",
      "435  0.834  1,368   39.0              2  \n",
      "\n",
      "[436 rows x 14 columns]\n"
     ]
    },
    {
     "ename": "AttributeError",
     "evalue": "'DataFrame' object has no attribute 'astypeint'",
     "output_type": "error",
     "traceback": [
      "\u001b[1;31m---------------------------------------------------------------------------\u001b[0m",
      "\u001b[1;31mAttributeError\u001b[0m                            Traceback (most recent call last)",
      "\u001b[1;32m<ipython-input-31-92b9d7596bad>\u001b[0m in \u001b[0;36m<module>\u001b[1;34m\u001b[0m\n\u001b[0;32m     16\u001b[0m \u001b[0mlabels\u001b[0m \u001b[1;33m=\u001b[0m \u001b[0mdata\u001b[0m\u001b[1;33m[\u001b[0m\u001b[1;34m'Group_encoder'\u001b[0m\u001b[1;33m]\u001b[0m  \u001b[1;31m# Reemplaza 'etiqueta' por el nombre real de la columna de etiquetas en tu base de datos\u001b[0m\u001b[1;33m\u001b[0m\u001b[1;33m\u001b[0m\u001b[0m\n\u001b[0;32m     17\u001b[0m \u001b[1;33m\u001b[0m\u001b[0m\n\u001b[1;32m---> 18\u001b[1;33m \u001b[0mfeatures\u001b[0m \u001b[1;33m=\u001b[0m \u001b[0mfeatures\u001b[0m\u001b[1;33m.\u001b[0m\u001b[0mastypeint\u001b[0m\u001b[1;33m(\u001b[0m\u001b[0mfloat\u001b[0m\u001b[1;33m(\u001b[0m\u001b[1;33m)\u001b[0m\u001b[1;33m)\u001b[0m\u001b[1;33m\u001b[0m\u001b[1;33m\u001b[0m\u001b[0m\n\u001b[0m\u001b[0;32m     19\u001b[0m \u001b[1;31m#int(float())\u001b[0m\u001b[1;33m\u001b[0m\u001b[1;33m\u001b[0m\u001b[1;33m\u001b[0m\u001b[0m\n",
      "\u001b[1;32m~\\anaconda3\\envs\\entornoGPU\\lib\\site-packages\\pandas\\core\\generic.py\u001b[0m in \u001b[0;36m__getattr__\u001b[1;34m(self, name)\u001b[0m\n\u001b[0;32m   5272\u001b[0m             \u001b[1;32mif\u001b[0m \u001b[0mself\u001b[0m\u001b[1;33m.\u001b[0m\u001b[0m_info_axis\u001b[0m\u001b[1;33m.\u001b[0m\u001b[0m_can_hold_identifiers_and_holds_name\u001b[0m\u001b[1;33m(\u001b[0m\u001b[0mname\u001b[0m\u001b[1;33m)\u001b[0m\u001b[1;33m:\u001b[0m\u001b[1;33m\u001b[0m\u001b[1;33m\u001b[0m\u001b[0m\n\u001b[0;32m   5273\u001b[0m                 \u001b[1;32mreturn\u001b[0m \u001b[0mself\u001b[0m\u001b[1;33m[\u001b[0m\u001b[0mname\u001b[0m\u001b[1;33m]\u001b[0m\u001b[1;33m\u001b[0m\u001b[1;33m\u001b[0m\u001b[0m\n\u001b[1;32m-> 5274\u001b[1;33m             \u001b[1;32mreturn\u001b[0m \u001b[0mobject\u001b[0m\u001b[1;33m.\u001b[0m\u001b[0m__getattribute__\u001b[0m\u001b[1;33m(\u001b[0m\u001b[0mself\u001b[0m\u001b[1;33m,\u001b[0m \u001b[0mname\u001b[0m\u001b[1;33m)\u001b[0m\u001b[1;33m\u001b[0m\u001b[1;33m\u001b[0m\u001b[0m\n\u001b[0m\u001b[0;32m   5275\u001b[0m \u001b[1;33m\u001b[0m\u001b[0m\n\u001b[0;32m   5276\u001b[0m     \u001b[1;32mdef\u001b[0m \u001b[0m__setattr__\u001b[0m\u001b[1;33m(\u001b[0m\u001b[0mself\u001b[0m\u001b[1;33m,\u001b[0m \u001b[0mname\u001b[0m\u001b[1;33m:\u001b[0m \u001b[0mstr\u001b[0m\u001b[1;33m,\u001b[0m \u001b[0mvalue\u001b[0m\u001b[1;33m)\u001b[0m \u001b[1;33m->\u001b[0m \u001b[1;32mNone\u001b[0m\u001b[1;33m:\u001b[0m\u001b[1;33m\u001b[0m\u001b[1;33m\u001b[0m\u001b[0m\n",
      "\u001b[1;31mAttributeError\u001b[0m: 'DataFrame' object has no attribute 'astypeint'"
     ]
    }
   ],
   "source": [
    "from sklearn.preprocessing import LabelEncoder\n",
    "import pandas as pd\n",
    "\n",
    "data = pd.read_csv(filename)\n",
    "\n",
    "# Crear una instancia del codificador de etiquetas\n",
    "label_encoder = LabelEncoder()\n",
    "\n",
    "data['Group'] = data['Group'].replace({0: 'Converted', 1: 'Demented', 2: 'Nondemented'})\n",
    "data['Group_encoder'] = label_encoder.fit_transform(data['Group'])\n",
    "print(data)\n",
    "\n",
    "data = data.fillna(data.mean())  # Reemplazar valores faltantes con la media\n",
    "\n",
    "features = data[['Age', 'Educ', 'SES', 'MMSE', 'CDR', 'eTIV', 'nWBV', 'ASF']]  # Reemplaza 'caracteristica1', 'caracteristica2', etc. por los nombres reales de las características en tu base de datos\n",
    "labels = data['Group_encoder']  # Reemplaza 'etiqueta' por el nombre real de la columna de etiquetas en tu base de datos\n",
    "\n",
    "features = features.astype(int)\n",
    "#features = features.astypeint(float())\n",
    "#int(float())"
   ]
  },
  {
   "cell_type": "code",
   "execution_count": 29,
   "metadata": {},
   "outputs": [
    {
     "ename": "ModuleNotFoundError",
     "evalue": "No module named 'cudf'",
     "output_type": "error",
     "traceback": [
      "\u001b[1;31m---------------------------------------------------------------------------\u001b[0m",
      "\u001b[1;31mModuleNotFoundError\u001b[0m                       Traceback (most recent call last)",
      "\u001b[1;32m<ipython-input-29-117de9717924>\u001b[0m in \u001b[0;36m<module>\u001b[1;34m\u001b[0m\n\u001b[1;32m----> 1\u001b[1;33m \u001b[1;32mimport\u001b[0m \u001b[0mcudf\u001b[0m\u001b[1;33m\u001b[0m\u001b[1;33m\u001b[0m\u001b[0m\n\u001b[0m\u001b[0;32m      2\u001b[0m \u001b[1;32mimport\u001b[0m \u001b[0mnumpy\u001b[0m \u001b[1;32mas\u001b[0m \u001b[0mnp\u001b[0m\u001b[1;33m\u001b[0m\u001b[1;33m\u001b[0m\u001b[0m\n\u001b[0;32m      3\u001b[0m \u001b[0mdf\u001b[0m \u001b[1;33m=\u001b[0m \u001b[0mcudf\u001b[0m\u001b[1;33m.\u001b[0m\u001b[0mDataFrame\u001b[0m\u001b[1;33m(\u001b[0m\u001b[1;33m{\u001b[0m\u001b[1;34m\"x\"\u001b[0m\u001b[1;33m:\u001b[0m \u001b[1;33m(\u001b[0m\u001b[0mnp\u001b[0m\u001b[1;33m.\u001b[0m\u001b[0marange\u001b[0m\u001b[1;33m(\u001b[0m\u001b[1;36m4\u001b[0m\u001b[1;33m)\u001b[0m \u001b[1;33m//\u001b[0m \u001b[1;36m2\u001b[0m\u001b[1;33m)\u001b[0m\u001b[1;33m.\u001b[0m\u001b[0mastype\u001b[0m\u001b[1;33m(\u001b[0m\u001b[0mfloat\u001b[0m\u001b[1;33m)\u001b[0m\u001b[1;33m}\u001b[0m\u001b[1;33m)\u001b[0m\u001b[1;33m\u001b[0m\u001b[1;33m\u001b[0m\u001b[0m\n\u001b[0;32m      4\u001b[0m \u001b[0mdf\u001b[0m\u001b[1;33m.\u001b[0m\u001b[0mastype\u001b[0m\u001b[1;33m(\u001b[0m\u001b[0mint\u001b[0m\u001b[1;33m)\u001b[0m\u001b[1;33m\u001b[0m\u001b[1;33m\u001b[0m\u001b[0m\n",
      "\u001b[1;31mModuleNotFoundError\u001b[0m: No module named 'cudf'"
     ]
    }
   ],
   "source": [
    "import cudf\n",
    "import numpy as np\n",
    "df = cudf.DataFrame({\"x\": (np.arange(4) // 2).astype(float)})\n",
    "df.astype(int)"
   ]
  },
  {
   "cell_type": "code",
   "execution_count": 27,
   "metadata": {
    "tags": []
   },
   "outputs": [],
   "source": [
    "# Convertir las características y las etiquetas a arrays de NumPy\n",
    "features_array = np.array(features)\n",
    "labels_array = np.array(labels)"
   ]
  },
  {
   "cell_type": "code",
   "execution_count": 28,
   "metadata": {
    "tags": []
   },
   "outputs": [
    {
     "ename": "ValueError",
     "evalue": "could not convert string to float: '1,306'",
     "output_type": "error",
     "traceback": [
      "\u001b[1;31m---------------------------------------------------------------------------\u001b[0m",
      "\u001b[1;31mValueError\u001b[0m                                Traceback (most recent call last)",
      "\u001b[1;32m<ipython-input-28-f3f82240bc5b>\u001b[0m in \u001b[0;36m<module>\u001b[1;34m\u001b[0m\n\u001b[0;32m      1\u001b[0m \u001b[1;32mfrom\u001b[0m \u001b[0msklearn\u001b[0m\u001b[1;33m.\u001b[0m\u001b[0mpreprocessing\u001b[0m \u001b[1;32mimport\u001b[0m \u001b[0mMinMaxScaler\u001b[0m\u001b[1;33m\u001b[0m\u001b[1;33m\u001b[0m\u001b[0m\n\u001b[1;32m----> 2\u001b[1;33m \u001b[0mfeatures\u001b[0m \u001b[1;33m=\u001b[0m \u001b[0mMinMaxScaler\u001b[0m\u001b[1;33m(\u001b[0m\u001b[1;33m)\u001b[0m\u001b[1;33m.\u001b[0m\u001b[0mfit_transform\u001b[0m\u001b[1;33m(\u001b[0m\u001b[0mfeatures\u001b[0m\u001b[1;33m)\u001b[0m\u001b[1;33m\u001b[0m\u001b[1;33m\u001b[0m\u001b[0m\n\u001b[0m",
      "\u001b[1;32m~\\anaconda3\\envs\\entornoGPU\\lib\\site-packages\\sklearn\\base.py\u001b[0m in \u001b[0;36mfit_transform\u001b[1;34m(self, X, y, **fit_params)\u001b[0m\n\u001b[0;32m    850\u001b[0m         \u001b[1;32mif\u001b[0m \u001b[0my\u001b[0m \u001b[1;32mis\u001b[0m \u001b[1;32mNone\u001b[0m\u001b[1;33m:\u001b[0m\u001b[1;33m\u001b[0m\u001b[1;33m\u001b[0m\u001b[0m\n\u001b[0;32m    851\u001b[0m             \u001b[1;31m# fit method of arity 1 (unsupervised transformation)\u001b[0m\u001b[1;33m\u001b[0m\u001b[1;33m\u001b[0m\u001b[1;33m\u001b[0m\u001b[0m\n\u001b[1;32m--> 852\u001b[1;33m             \u001b[1;32mreturn\u001b[0m \u001b[0mself\u001b[0m\u001b[1;33m.\u001b[0m\u001b[0mfit\u001b[0m\u001b[1;33m(\u001b[0m\u001b[0mX\u001b[0m\u001b[1;33m,\u001b[0m \u001b[1;33m**\u001b[0m\u001b[0mfit_params\u001b[0m\u001b[1;33m)\u001b[0m\u001b[1;33m.\u001b[0m\u001b[0mtransform\u001b[0m\u001b[1;33m(\u001b[0m\u001b[0mX\u001b[0m\u001b[1;33m)\u001b[0m\u001b[1;33m\u001b[0m\u001b[1;33m\u001b[0m\u001b[0m\n\u001b[0m\u001b[0;32m    853\u001b[0m         \u001b[1;32melse\u001b[0m\u001b[1;33m:\u001b[0m\u001b[1;33m\u001b[0m\u001b[1;33m\u001b[0m\u001b[0m\n\u001b[0;32m    854\u001b[0m             \u001b[1;31m# fit method of arity 2 (supervised transformation)\u001b[0m\u001b[1;33m\u001b[0m\u001b[1;33m\u001b[0m\u001b[1;33m\u001b[0m\u001b[0m\n",
      "\u001b[1;32m~\\anaconda3\\envs\\entornoGPU\\lib\\site-packages\\sklearn\\preprocessing\\_data.py\u001b[0m in \u001b[0;36mfit\u001b[1;34m(self, X, y)\u001b[0m\n\u001b[0;32m    414\u001b[0m         \u001b[1;31m# Reset internal state before fitting\u001b[0m\u001b[1;33m\u001b[0m\u001b[1;33m\u001b[0m\u001b[1;33m\u001b[0m\u001b[0m\n\u001b[0;32m    415\u001b[0m         \u001b[0mself\u001b[0m\u001b[1;33m.\u001b[0m\u001b[0m_reset\u001b[0m\u001b[1;33m(\u001b[0m\u001b[1;33m)\u001b[0m\u001b[1;33m\u001b[0m\u001b[1;33m\u001b[0m\u001b[0m\n\u001b[1;32m--> 416\u001b[1;33m         \u001b[1;32mreturn\u001b[0m \u001b[0mself\u001b[0m\u001b[1;33m.\u001b[0m\u001b[0mpartial_fit\u001b[0m\u001b[1;33m(\u001b[0m\u001b[0mX\u001b[0m\u001b[1;33m,\u001b[0m \u001b[0my\u001b[0m\u001b[1;33m)\u001b[0m\u001b[1;33m\u001b[0m\u001b[1;33m\u001b[0m\u001b[0m\n\u001b[0m\u001b[0;32m    417\u001b[0m \u001b[1;33m\u001b[0m\u001b[0m\n\u001b[0;32m    418\u001b[0m     \u001b[1;32mdef\u001b[0m \u001b[0mpartial_fit\u001b[0m\u001b[1;33m(\u001b[0m\u001b[0mself\u001b[0m\u001b[1;33m,\u001b[0m \u001b[0mX\u001b[0m\u001b[1;33m,\u001b[0m \u001b[0my\u001b[0m\u001b[1;33m=\u001b[0m\u001b[1;32mNone\u001b[0m\u001b[1;33m)\u001b[0m\u001b[1;33m:\u001b[0m\u001b[1;33m\u001b[0m\u001b[1;33m\u001b[0m\u001b[0m\n",
      "\u001b[1;32m~\\anaconda3\\envs\\entornoGPU\\lib\\site-packages\\sklearn\\preprocessing\\_data.py\u001b[0m in \u001b[0;36mpartial_fit\u001b[1;34m(self, X, y)\u001b[0m\n\u001b[0;32m    456\u001b[0m             \u001b[0mestimator\u001b[0m\u001b[1;33m=\u001b[0m\u001b[0mself\u001b[0m\u001b[1;33m,\u001b[0m\u001b[1;33m\u001b[0m\u001b[1;33m\u001b[0m\u001b[0m\n\u001b[0;32m    457\u001b[0m             \u001b[0mdtype\u001b[0m\u001b[1;33m=\u001b[0m\u001b[0mFLOAT_DTYPES\u001b[0m\u001b[1;33m,\u001b[0m\u001b[1;33m\u001b[0m\u001b[1;33m\u001b[0m\u001b[0m\n\u001b[1;32m--> 458\u001b[1;33m             \u001b[0mforce_all_finite\u001b[0m\u001b[1;33m=\u001b[0m\u001b[1;34m\"allow-nan\"\u001b[0m\u001b[1;33m,\u001b[0m\u001b[1;33m\u001b[0m\u001b[1;33m\u001b[0m\u001b[0m\n\u001b[0m\u001b[0;32m    459\u001b[0m         )\n\u001b[0;32m    460\u001b[0m \u001b[1;33m\u001b[0m\u001b[0m\n",
      "\u001b[1;32m~\\anaconda3\\envs\\entornoGPU\\lib\\site-packages\\sklearn\\base.py\u001b[0m in \u001b[0;36m_validate_data\u001b[1;34m(self, X, y, reset, validate_separately, **check_params)\u001b[0m\n\u001b[0;32m    564\u001b[0m             \u001b[1;32mraise\u001b[0m \u001b[0mValueError\u001b[0m\u001b[1;33m(\u001b[0m\u001b[1;34m\"Validation should be done on X, y or both.\"\u001b[0m\u001b[1;33m)\u001b[0m\u001b[1;33m\u001b[0m\u001b[1;33m\u001b[0m\u001b[0m\n\u001b[0;32m    565\u001b[0m         \u001b[1;32melif\u001b[0m \u001b[1;32mnot\u001b[0m \u001b[0mno_val_X\u001b[0m \u001b[1;32mand\u001b[0m \u001b[0mno_val_y\u001b[0m\u001b[1;33m:\u001b[0m\u001b[1;33m\u001b[0m\u001b[1;33m\u001b[0m\u001b[0m\n\u001b[1;32m--> 566\u001b[1;33m             \u001b[0mX\u001b[0m \u001b[1;33m=\u001b[0m \u001b[0mcheck_array\u001b[0m\u001b[1;33m(\u001b[0m\u001b[0mX\u001b[0m\u001b[1;33m,\u001b[0m \u001b[1;33m**\u001b[0m\u001b[0mcheck_params\u001b[0m\u001b[1;33m)\u001b[0m\u001b[1;33m\u001b[0m\u001b[1;33m\u001b[0m\u001b[0m\n\u001b[0m\u001b[0;32m    567\u001b[0m             \u001b[0mout\u001b[0m \u001b[1;33m=\u001b[0m \u001b[0mX\u001b[0m\u001b[1;33m\u001b[0m\u001b[1;33m\u001b[0m\u001b[0m\n\u001b[0;32m    568\u001b[0m         \u001b[1;32melif\u001b[0m \u001b[0mno_val_X\u001b[0m \u001b[1;32mand\u001b[0m \u001b[1;32mnot\u001b[0m \u001b[0mno_val_y\u001b[0m\u001b[1;33m:\u001b[0m\u001b[1;33m\u001b[0m\u001b[1;33m\u001b[0m\u001b[0m\n",
      "\u001b[1;32m~\\anaconda3\\envs\\entornoGPU\\lib\\site-packages\\sklearn\\utils\\validation.py\u001b[0m in \u001b[0;36mcheck_array\u001b[1;34m(array, accept_sparse, accept_large_sparse, dtype, order, copy, force_all_finite, ensure_2d, allow_nd, ensure_min_samples, ensure_min_features, estimator)\u001b[0m\n\u001b[0;32m    744\u001b[0m                     \u001b[0marray\u001b[0m \u001b[1;33m=\u001b[0m \u001b[0marray\u001b[0m\u001b[1;33m.\u001b[0m\u001b[0mastype\u001b[0m\u001b[1;33m(\u001b[0m\u001b[0mdtype\u001b[0m\u001b[1;33m,\u001b[0m \u001b[0mcasting\u001b[0m\u001b[1;33m=\u001b[0m\u001b[1;34m\"unsafe\"\u001b[0m\u001b[1;33m,\u001b[0m \u001b[0mcopy\u001b[0m\u001b[1;33m=\u001b[0m\u001b[1;32mFalse\u001b[0m\u001b[1;33m)\u001b[0m\u001b[1;33m\u001b[0m\u001b[1;33m\u001b[0m\u001b[0m\n\u001b[0;32m    745\u001b[0m                 \u001b[1;32melse\u001b[0m\u001b[1;33m:\u001b[0m\u001b[1;33m\u001b[0m\u001b[1;33m\u001b[0m\u001b[0m\n\u001b[1;32m--> 746\u001b[1;33m                     \u001b[0marray\u001b[0m \u001b[1;33m=\u001b[0m \u001b[0mnp\u001b[0m\u001b[1;33m.\u001b[0m\u001b[0masarray\u001b[0m\u001b[1;33m(\u001b[0m\u001b[0marray\u001b[0m\u001b[1;33m,\u001b[0m \u001b[0morder\u001b[0m\u001b[1;33m=\u001b[0m\u001b[0morder\u001b[0m\u001b[1;33m,\u001b[0m \u001b[0mdtype\u001b[0m\u001b[1;33m=\u001b[0m\u001b[0mdtype\u001b[0m\u001b[1;33m)\u001b[0m\u001b[1;33m\u001b[0m\u001b[1;33m\u001b[0m\u001b[0m\n\u001b[0m\u001b[0;32m    747\u001b[0m             \u001b[1;32mexcept\u001b[0m \u001b[0mComplexWarning\u001b[0m \u001b[1;32mas\u001b[0m \u001b[0mcomplex_warning\u001b[0m\u001b[1;33m:\u001b[0m\u001b[1;33m\u001b[0m\u001b[1;33m\u001b[0m\u001b[0m\n\u001b[0;32m    748\u001b[0m                 raise ValueError(\n",
      "\u001b[1;32m~\\anaconda3\\envs\\entornoGPU\\lib\\site-packages\\numpy\\core\\_asarray.py\u001b[0m in \u001b[0;36masarray\u001b[1;34m(a, dtype, order)\u001b[0m\n\u001b[0;32m     83\u001b[0m \u001b[1;33m\u001b[0m\u001b[0m\n\u001b[0;32m     84\u001b[0m     \"\"\"\n\u001b[1;32m---> 85\u001b[1;33m     \u001b[1;32mreturn\u001b[0m \u001b[0marray\u001b[0m\u001b[1;33m(\u001b[0m\u001b[0ma\u001b[0m\u001b[1;33m,\u001b[0m \u001b[0mdtype\u001b[0m\u001b[1;33m,\u001b[0m \u001b[0mcopy\u001b[0m\u001b[1;33m=\u001b[0m\u001b[1;32mFalse\u001b[0m\u001b[1;33m,\u001b[0m \u001b[0morder\u001b[0m\u001b[1;33m=\u001b[0m\u001b[0morder\u001b[0m\u001b[1;33m)\u001b[0m\u001b[1;33m\u001b[0m\u001b[1;33m\u001b[0m\u001b[0m\n\u001b[0m\u001b[0;32m     86\u001b[0m \u001b[1;33m\u001b[0m\u001b[0m\n\u001b[0;32m     87\u001b[0m \u001b[1;33m\u001b[0m\u001b[0m\n",
      "\u001b[1;31mValueError\u001b[0m: could not convert string to float: '1,306'"
     ]
    }
   ],
   "source": [
    "from sklearn.preprocessing import MinMaxScaler\n",
    "features = MinMaxScaler().fit_transform(features)"
   ]
  },
  {
   "cell_type": "code",
   "execution_count": null,
   "metadata": {
    "tags": []
   },
   "outputs": [],
   "source": [
    "import pandas as pd\n",
    "from sklearn.model_selection import train_test_split\n",
    "from sklearn.linear_model import LogisticRegression\n",
    "from sklearn.metrics import accuracy_score\n",
    "from qiskit.utils import algorithm_globals\n",
    "from sklearn.preprocessing import LabelEncoder\n",
    "\n",
    "# Cargar la base de datos desde un archivo CSV\n",
    "data = pd.read_csv(filename)\n",
    "\n",
    "# Eliminar filas con valores faltantes\n",
    "#data = data.dropna()\n",
    "\n",
    "# Crear una instancia del codificador de etiquetas\n",
    "label_encoder = LabelEncoder()\n",
    "\n",
    "data['Group'] = data['Group'].replace({0: 'Converted', 1: 'Demented', 2: 'Nondemented'})\n",
    "data['Group_encoder'] = label_encoder.fit_transform(data['Group'])\n",
    "print(data)\n",
    "\n",
    "data = data.fillna(data.mean())  # Reemplazar valores faltantes con la media\n",
    "\n",
    "# Dividir los datos en características (X=Features) y etiquetas (y=Labels)\n",
    "#X = data.drop(['Age', 'EDUC', 'SES', 'MMSE', 'CDR', 'eTIV', 'nWBV', 'ASF'], axis=1)  # features = data.drop(\"etiqueta\", axis=1)\n",
    "#y = data[\"Group\"]               # labels = data[\"etiqueta\"]\n",
    "\n",
    "features = data[['Age', 'EDUC', 'SES', 'MMSE', 'CDR', 'eTIV', 'nWBV', 'ASF']]  # Reemplaza 'caracteristica1', 'caracteristica2', etc. por los nombres reales de las características en tu base de datos\n",
    "labels = data['Group_encoder']  # Reemplaza 'etiqueta' por el nombre real de la columna de etiquetas en tu base de datos\n",
    "\n",
    "features = features.astype(int)\n",
    "#features = features.round(2)\n",
    "\n",
    "# Convertir las características y las etiquetas a arrays de NumPy\n",
    "features_array = np.array(features)\n",
    "labels_array = np.array(labels)\n",
    "\n",
    "\n",
    "# Dividir los datos en conjuntos de entrenamiento y prueba\n",
    "#train_features, test_features, train_labels, test_labels = train_test_split(features, labels, test_size=0.2, random_state=42)\n",
    "train_features, test_features, train_labels, test_labels = train_test_split(features_array, labels_array, train_size=0.8, random_state=algorithm_globals.random_seed)\n",
    "\n",
    "#train_features = train_features.astype(int)\n",
    "#train_features, test_features, train_labels, test_labels = train_test_split(features_array, labels_array, train_size=0.8, random_state=42)\n",
    "\n",
    "# Imprimir los valores de los conjuntos de entrenamiento y prueba\n",
    "print(\"train_features:\", train_features)\n",
    "print(\"test_features:\", test_features)\n",
    "print(\"train_labels:\", train_labels)\n",
    "print(\"test_labels:\", test_labels)\n"
   ]
  },
  {
   "cell_type": "code",
   "execution_count": 12,
   "metadata": {
    "tags": []
   },
   "outputs": [
    {
     "name": "stdout",
     "output_type": "stream",
     "text": [
      "    Subject ID         MRI ID        Group  Visit  MR Delay M/F Hand  Age  \\\n",
      "0    OAS2_0001  OAS2_0001_MR1  Nondemented      1         0   M    R   87   \n",
      "1    OAS2_0001  OAS2_0001_MR2  Nondemented      2       457   M    R   88   \n",
      "2    OAS2_0002  OAS2_0002_MR1     Demented      1         0   M    R   75   \n",
      "3    OAS2_0002  OAS2_0002_MR2     Demented      2       560   M    R   76   \n",
      "4    OAS2_0002  OAS2_0002_MR3     Demented      3      1895   M    R   80   \n",
      "..         ...            ...          ...    ...       ...  ..  ...  ...   \n",
      "368  OAS2_0185  OAS2_0185_MR2     Demented      2       842   M    R   82   \n",
      "369  OAS2_0185  OAS2_0185_MR3     Demented      3      2297   M    R   86   \n",
      "370  OAS2_0186  OAS2_0186_MR1  Nondemented      1         0   F    R   61   \n",
      "371  OAS2_0186  OAS2_0186_MR2  Nondemented      2       763   F    R   63   \n",
      "372  OAS2_0186  OAS2_0186_MR3  Nondemented      3      1608   F    R   65   \n",
      "\n",
      "     EDUC  SES  MMSE  CDR  eTIV   nWBV    ASF  Group_encoder  \n",
      "0      14  2.0  27.0  0.0  1987  0.696  0.883              2  \n",
      "1      14  2.0  30.0  0.0  2004  0.681  0.876              2  \n",
      "2      12  NaN  23.0  0.5  1678  0.736  1.046              1  \n",
      "3      12  NaN  28.0  0.5  1738  0.713  1.010              1  \n",
      "4      12  NaN  22.0  0.5  1698  0.701  1.034              1  \n",
      "..    ...  ...   ...  ...   ...    ...    ...            ...  \n",
      "368    16  1.0  28.0  0.5  1693  0.694  1.037              1  \n",
      "369    16  1.0  26.0  0.5  1688  0.675  1.040              1  \n",
      "370    13  2.0  30.0  0.0  1319  0.801  1.331              2  \n",
      "371    13  2.0  30.0  0.0  1327  0.796  1.323              2  \n",
      "372    13  2.0  30.0  0.0  1333  0.801  1.317              2  \n",
      "\n",
      "[373 rows x 16 columns]\n"
     ]
    }
   ],
   "source": [
    "#data.replace(0, np.nan, inplace=True)\n",
    "import pandas as pd\n",
    "from sklearn.preprocessing import LabelEncoder\n",
    "\n",
    "#features = data[['Age', 'EDUC', 'SES', 'MMSE', 'CDR', 'eTIV', 'nWBV', 'ASF']]  # Reemplaza 'caracteristica1', 'caracteristica2', etc. por los nombres reales de las características en tu base de datos\n",
    "#labels = data['Group']  # Reemplaza 'etiqueta' por el nombre real de la columna de etiquetas en tu base de datos\n",
    "# Crear un DataFrame de ejemplo\n",
    "#data = pd.DataFrame({'Group': ['Nondemented', 'Demented', 'Converted']})\n",
    "#data = pd.DataFrame({'Fruit': ['Apple', 'Banana', 'Orange', 'Apple', 'Orange']})\n",
    "\n",
    "data = pd.read_csv(filename)\n",
    "\n",
    "# Crear una instancia del codificador de etiquetas\n",
    "label_encoder = LabelEncoder()\n",
    "\n",
    "# Definir el diccionario de mapeo\n",
    "#mapping = {'Nondemented': 0, 'Demented': 1, 'Converted': 2}\n",
    "# Aplicar la codificación a la columna \"Group\"\n",
    "#data['Group'] = data['Group'].map(mapping)\n",
    "\n",
    "# Aplicar la codificación a la columna \"Group\"\n",
    "#data['Group'] = label_encoder.fit_transform(data['Group'])\n",
    "#data['Group_encoder'] = data['Group'].map({'Nondemented':0, 'Demented':1, 'Converted':2})\n",
    "\n",
    "data['Group'] = data['Group'].replace({0: 'Converted', 1: 'Demented', 2: 'Nondemented'})\n",
    "data['Group_encoder'] = label_encoder.fit_transform(data['Group'])\n",
    "print(data)\n",
    "\n",
    "\n",
    "\n",
    "features = data[['Age', 'EDUC', 'SES', 'MMSE', 'CDR', 'eTIV', 'nWBV', 'ASF']]  # Reemplaza 'caracteristica1', 'caracteristica2', etc. por los nombres reales de las características en tu base de datos\n",
    "labels = data['Group_encoder']  # Reemplaza 'etiqueta' por el nombre real de la columna de etiquetas en tu base de datos\n",
    "\n",
    "# Convertir las características y las etiquetas a arrays de NumPy\n",
    "features_array = np.array(features)\n",
    "labels_array = np.array(labels)\n",
    "\n"
   ]
  },
  {
   "cell_type": "code",
   "execution_count": 13,
   "metadata": {
    "tags": []
   },
   "outputs": [],
   "source": [
    "#print(data.head())\n",
    "#print(data.info())\n",
    "#print(description)\n",
    "#data[\"Group\"].isnull().sum()"
   ]
  },
  {
   "cell_type": "code",
   "execution_count": 14,
   "metadata": {},
   "outputs": [],
   "source": [
    "#pd.set_option('display.max_rows', None)  # Configurar para mostrar todas las filas\n",
    "#print(data)  # Imprimir el DataFrame completo"
   ]
  },
  {
   "cell_type": "code",
   "execution_count": 13,
   "metadata": {
    "tags": []
   },
   "outputs": [
    {
     "data": {
      "image/png": "[encoded data removed]",
      "text/plain": [
       "<Figure size 432x288 with 1 Axes>"
      ]
     },
     "metadata": {
      "needs_background": "light"
     },
     "output_type": "display_data"
    }
   ],
   "source": [
    "import matplotlib.pyplot as plt\n",
    "#0: 'Converted', 1: 'Demented', 2: 'Nondemented'  \n",
    "#Puedo cambiar Group_encoder por Group\n",
    "data[\"Group_encoder\"].value_counts().plot(kind=\"bar\") # en vez de bar puedo usar, pie, line, count\n",
    "plt.xlabel(\"Categoría\")\n",
    "plt.ylabel(\"Cantidad\")\n",
    "plt.title(\"Distribución de Categorías en la Columna 'Group'\")\n",
    "plt.show()"
   ]
  },
  {
   "cell_type": "code",
   "execution_count": 14,
   "metadata": {
    "tags": []
   },
   "outputs": [
    {
     "name": "stdout",
     "output_type": "stream",
     "text": [
      "    Subject ID         MRI ID        Group  Visit  MR Delay M/F Hand  Age  \\\n",
      "0    OAS2_0001  OAS2_0001_MR1  Nondemented      1         0   M    R   87   \n",
      "1    OAS2_0001  OAS2_0001_MR2  Nondemented      2       457   M    R   88   \n",
      "2    OAS2_0002  OAS2_0002_MR1     Demented      1         0   M    R   75   \n",
      "3    OAS2_0002  OAS2_0002_MR2     Demented      2       560   M    R   76   \n",
      "4    OAS2_0002  OAS2_0002_MR3     Demented      3      1895   M    R   80   \n",
      "..         ...            ...          ...    ...       ...  ..  ...  ...   \n",
      "368  OAS2_0185  OAS2_0185_MR2     Demented      2       842   M    R   82   \n",
      "369  OAS2_0185  OAS2_0185_MR3     Demented      3      2297   M    R   86   \n",
      "370  OAS2_0186  OAS2_0186_MR1  Nondemented      1         0   F    R   61   \n",
      "371  OAS2_0186  OAS2_0186_MR2  Nondemented      2       763   F    R   63   \n",
      "372  OAS2_0186  OAS2_0186_MR3  Nondemented      3      1608   F    R   65   \n",
      "\n",
      "     EDUC  SES  MMSE  CDR  eTIV   nWBV    ASF  Group_encoder  \n",
      "0      14  2.0  27.0  0.0  1987  0.696  0.883              2  \n",
      "1      14  2.0  30.0  0.0  2004  0.681  0.876              2  \n",
      "2      12  NaN  23.0  0.5  1678  0.736  1.046              1  \n",
      "3      12  NaN  28.0  0.5  1738  0.713  1.010              1  \n",
      "4      12  NaN  22.0  0.5  1698  0.701  1.034              1  \n",
      "..    ...  ...   ...  ...   ...    ...    ...            ...  \n",
      "368    16  1.0  28.0  0.5  1693  0.694  1.037              1  \n",
      "369    16  1.0  26.0  0.5  1688  0.675  1.040              1  \n",
      "370    13  2.0  30.0  0.0  1319  0.801  1.331              2  \n",
      "371    13  2.0  30.0  0.0  1327  0.796  1.323              2  \n",
      "372    13  2.0  30.0  0.0  1333  0.801  1.317              2  \n",
      "\n",
      "[373 rows x 16 columns]\n"
     ]
    }
   ],
   "source": [
    "from qiskit.utils import algorithm_globals\n",
    "from sklearn.preprocessing import LabelEncoder\n",
    "\n",
    "# Crear una instancia del codificador de etiquetas\n",
    "label_encoder = LabelEncoder()\n",
    "\n",
    "data['Group'] = data['Group'].replace({0: 'Converted', 1: 'Demented', 2: 'Nondemented'})\n",
    "data['Group_encoder'] = label_encoder.fit_transform(data['Group'])\n",
    "print(data)\n",
    "\n",
    "data = data.fillna(data.mean())  # Reemplazar valores faltantes con la media\n",
    "\n",
    "features = data[['Age', 'EDUC', 'SES', 'MMSE', 'CDR', 'eTIV', 'nWBV', 'ASF']]  # Reemplaza 'caracteristica1', 'caracteristica2', etc. por los nombres reales de las características en tu base de datos\n",
    "labels = data['Group_encoder']  # Reemplaza 'etiqueta' por el nombre real de la columna de etiquetas en tu base de datos\n",
    "\n",
    "features = features.astype(int)\n",
    "\n",
    "# Convertir las características y las etiquetas a arrays de NumPy\n",
    "features_array = np.array(features)\n",
    "labels_array = np.array(labels)\n",
    "\n",
    "\n",
    "# Dividir los datos en conjuntos de entrenamiento y prueba\n",
    "train_features, test_features, train_labels, test_labels = train_test_split(features_array, labels_array, train_size=0.8, random_state=algorithm_globals.random_seed)\n"
   ]
  },
  {
   "cell_type": "code",
   "execution_count": 15,
   "metadata": {
    "tags": []
   },
   "outputs": [],
   "source": [
    "from sklearn.svm import SVC\n",
    "svc = SVC()\n",
    "_ =svc.fit(train_features, train_labels)  # suppress printing the return value"
   ]
  },
  {
   "cell_type": "code",
   "execution_count": 18,
   "metadata": {
    "tags": []
   },
   "outputs": [
    {
     "name": "stdout",
     "output_type": "stream",
     "text": [
      "           Group M/F  Age  EDUC       SES  MMSE  CDR  eTIV   nWBV    ASF  \\\n",
      "0    Nondemented   M   87    14  2.000000  27.0  0.0  1987  0.696  0.883   \n",
      "1    Nondemented   M   88    14  2.000000  30.0  0.0  2004  0.681  0.876   \n",
      "2       Demented   M   75    12  2.460452  23.0  0.5  1678  0.736  1.046   \n",
      "3       Demented   M   76    12  2.460452  28.0  0.5  1738  0.713  1.010   \n",
      "4       Demented   M   80    12  2.460452  22.0  0.5  1698  0.701  1.034   \n",
      "..           ...  ..  ...   ...       ...   ...  ...   ...    ...    ...   \n",
      "368     Demented   M   82    16  1.000000  28.0  0.5  1693  0.694  1.037   \n",
      "369     Demented   M   86    16  1.000000  26.0  0.5  1688  0.675  1.040   \n",
      "370  Nondemented   F   61    13  2.000000  30.0  0.0  1319  0.801  1.331   \n",
      "371  Nondemented   F   63    13  2.000000  30.0  0.0  1327  0.796  1.323   \n",
      "372  Nondemented   F   65    13  2.000000  30.0  0.0  1333  0.801  1.317   \n",
      "\n",
      "     Group_encoder  \n",
      "0                2  \n",
      "1                2  \n",
      "2                1  \n",
      "3                1  \n",
      "4                1  \n",
      "..             ...  \n",
      "368              1  \n",
      "369              1  \n",
      "370              2  \n",
      "371              2  \n",
      "372              2  \n",
      "\n",
      "[373 rows x 11 columns]\n",
      "train_features: [[  90   18    3 ... 1200    0    1]\n",
      " [  80   12    2 ... 1430    0    1]\n",
      " [  64   12    4 ... 1370    0    1]\n",
      " ...\n",
      " [  66   16    1 ... 1708    0    1]\n",
      " [  76   12    2 ... 1557    0    1]\n",
      " [  72   16    3 ... 1354    0    1]]\n",
      "test_features: [[  82   17    1   29    0 1692    0    1]\n",
      " [  79   20    1   26    0 1548    0    1]\n",
      " [  80   12    4   30    0 1390    0    1]\n",
      " [  69   16    3   30    0 1491    0    1]\n",
      " [  73   14    3   29    0 1238    0    1]\n",
      " [  76   14    3   29    0 1490    0    1]\n",
      " [  85   15    2   30    0 1488    0    1]\n",
      " [  77   12    3   29    0 1344    0    1]\n",
      " [  73   18    2   29    0 1548    0    1]\n",
      " [  86   16    1   26    0 1688    0    1]\n",
      " [  82   14    2   23    0 1514    0    1]\n",
      " [  78   12    3   23    1 1491    0    1]\n",
      " [  76   18    2   30    0 1550    0    1]\n",
      " [  74   20    2   30    0 1806    0    0]\n",
      " [  85   12    4   30    0 1699    0    1]\n",
      " [  87   14    1   30    0 1406    0    1]\n",
      " [  73   16    2   27    1 1365    0    1]\n",
      " [  62   12    4   17    0 1525    0    1]\n",
      " [  75   18    2   30    0 1651    0    1]\n",
      " [  76   16    1   28    0 1346    0    1]\n",
      " [  81   11    4   28    0 1750    0    1]\n",
      " [  79   18    1   27    0 1569    0    1]\n",
      " [  77   14    3   29    0 1504    0    1]\n",
      " [  71   14    4   26    0 1529    0    1]\n",
      " [  89   18    2   30    0 1715    0    1]\n",
      " [  75   18    1   29    0 1436    0    1]\n",
      " [  92   23    1   29    0 1454    0    1]\n",
      " [  75   13    2   28    0 1520    0    1]\n",
      " [  79   18    1   29    0 1644    0    1]\n",
      " [  74   18    2   30    0 1636    0    1]\n",
      " [  80   20    1   29    0 1587    0    1]\n",
      " [  86   15    3   30    0 1498    0    1]\n",
      " [  86   12    4   29    0 1783    0    0]\n",
      " [  80   13    2   28    0 1337    0    1]\n",
      " [  75   12    4   28    0 1511    0    1]\n",
      " [  77   16    3   16    1 1590    0    1]\n",
      " [  75   18    1   30    0 1317    0    1]\n",
      " [  76   12    2   27    0 1316    0    1]\n",
      " [  82   12    4   27    0 1477    0    1]\n",
      " [  68   15    2   30    0 1556    0    1]\n",
      " [  85   12    4   29    0 1225    0    1]\n",
      " [  93   14    2   30    0 1272    0    1]\n",
      " [  67   16    1   29    0 1337    0    1]\n",
      " [  61   16    1   30    0 1513    0    1]\n",
      " [  89   12    4   26    0 1485    0    1]\n",
      " [  86    6    4   27    0 1320    0    1]\n",
      " [  80   16    2   29    0 1323    0    1]\n",
      " [  91   12    3   28    0 1463    0    1]\n",
      " [  89   13    3   29    0 1154    0    1]\n",
      " [  76   14    3   28    0 1236    0    1]\n",
      " [  72   12    2   27    1 1432    0    1]\n",
      " [  73   16    1   28    0 1295    0    1]\n",
      " [  64   16    3   29    0 1316    0    1]\n",
      " [  71   12    3   30    0 1360    0    1]\n",
      " [  68   12    2   27    0 1457    0    1]\n",
      " [  71   18    2   30    0 1371    0    1]\n",
      " [  61   16    3   30    0 1313    0    1]\n",
      " [  85   12    3   30    0 1820    0    0]\n",
      " [  81   20    1   26    0 1556    0    1]\n",
      " [  77   16    2   29    0 1433    0    1]\n",
      " [  84   14    2   22    0 1550    0    1]\n",
      " [  72   13    2   30    0 1510    0    1]\n",
      " [  69   18    2   29    0 1536    0    1]\n",
      " [  65   12    4   17    0 1520    0    1]\n",
      " [  81   16    3   25    0 1396    0    1]\n",
      " [  92   16    1   30    0 1662    0    1]\n",
      " [  70   14    3   28    0 1510    0    1]\n",
      " [  84   12    4   26    0 1273    0    1]\n",
      " [  66   18    2   21    1 1562    0    1]\n",
      " [  81   12    2   30    0 1599    0    1]\n",
      " [  74   18    2   28    0 1659    0    1]\n",
      " [  71   11    4   28    0 1284    0    1]\n",
      " [  82   13    2   30    0 1342    0    1]\n",
      " [  85   17    1   30    0 1724    0    1]\n",
      " [  74   12    3   29    0 1344    0    1]]\n",
      "train_labels: [2 1 2 2 1 2 1 1 1 0 1 2 2 0 2 0 2 1 1 1 0 2 2 2 2 2 2 1 2 2 1 2 1 2 2 2 1\n",
      " 2 2 2 2 2 1 2 1 2 2 1 2 1 2 1 0 2 1 2 2 2 1 1 1 0 1 2 2 1 1 2 2 1 2 1 1 2\n",
      " 1 2 2 2 1 2 1 0 1 0 1 1 1 0 0 2 2 1 2 0 0 1 1 2 1 1 0 2 0 1 2 2 0 0 2 1 2\n",
      " 1 1 2 1 2 1 2 1 0 1 1 1 2 2 2 1 2 2 2 2 2 2 1 0 2 1 1 2 2 1 0 2 1 2 1 2 2\n",
      " 2 1 0 2 2 1 2 1 0 2 2 1 1 2 2 2 1 2 1 2 2 1 0 1 0 2 2 1 1 2 2 2 1 1 0 2 2\n",
      " 1 1 2 2 2 1 2 1 0 1 2 2 1 1 2 1 1 1 1 1 2 2 1 2 2 2 1 1 2 2 1 0 0 1 2 2 2\n",
      " 2 2 1 2 1 2 1 1 2 1 2 0 1 1 1 1 2 2 2 2 2 1 2 2 2 2 0 2 1 2 2 2 2 1 2 1 2\n",
      " 2 2 2 1 1 1 1 2 2 1 2 1 2 2 2 1 2 2 2 1 2 2 2 1 2 1 2 2 1 2 0 1 1 0 1 2 1\n",
      " 1 1]\n",
      "test_labels: [2 1 2 2 1 2 2 2 2 1 1 1 2 2 2 0 1 1 1 2 2 1 2 0 2 2 2 1 0 2 0 1 2 2 2 1 2\n",
      " 1 1 1 2 2 1 2 1 1 2 0 2 1 1 0 2 2 1 2 2 2 1 2 1 2 2 1 1 2 2 1 1 2 1 1 2 2\n",
      " 2]\n"
     ]
    }
   ],
   "source": [
    "###################################################################################\n",
    "# Classic Machine learning                                                        #\n",
    "# 10/07/2023, Hecho por: David Castillo  - Campus Agramonte                       #\n",
    "###################################################################################\n",
    "\n",
    "from sklearn.model_selection import train_test_split\n",
    "from qiskit.utils import algorithm_globals\n",
    "from sklearn.impute import SimpleImputer\n",
    "\n",
    "\n",
    "# Crear una instancia del codificador de etiquetas\n",
    "label_encoder = LabelEncoder()\n",
    "\n",
    "data['Group'] = data['Group'].replace({0: 'Converted', 1: 'Demented', 2: 'Nondemented'})\n",
    "data['Group_encoder'] = label_encoder.fit_transform(data['Group'])\n",
    "print(data)\n",
    "\n",
    "data = data.fillna(data.mean())  # Reemplazar valores faltantes con la media\n",
    "\n",
    "features = data[['Age', 'EDUC', 'SES', 'MMSE', 'CDR', 'eTIV', 'nWBV', 'ASF']]  # Reemplaza 'caracteristica1', 'caracteristica2', etc. por los nombres reales de las características en tu base de datos\n",
    "labels = data['Group_encoder']  # Reemplaza 'etiqueta' por el nombre real de la columna de etiquetas en tu base de datos\n",
    "\n",
    "features = features.astype(int)\n",
    "\n",
    "# Convertir las características y las etiquetas a arrays de NumPy\n",
    "features_array = np.array(features)\n",
    "labels_array = np.array(labels)\n",
    "\n",
    "\n",
    "\n",
    "algorithm_globals.random_seed = 123\n",
    "train_features, test_features, train_labels, test_labels = train_test_split(\n",
    "    features_array, labels_array, train_size=0.8, random_state=algorithm_globals.random_seed\n",
    ")\n",
    "\n",
    "# Manejar los valores faltantes en los datos de entrenamiento y prueba si es necesario\n",
    "#imputer = SimpleImputer(strategy='mean')  # Puedes ajustar la estrategia según tus necesidades\n",
    "#train_features = imputer.fit_transform(train_features)\n",
    "#test_features = imputer.transform(test_features)\n",
    "\n",
    "#train_labels = imputer.fit_transform(train_labels)\n",
    "#test_labels = imputer.transform(test_labels)\n",
    "\n",
    "# Imprimir los valores de los conjuntos de entrenamiento y prueba\n",
    "print(\"train_features:\", train_features)\n",
    "print(\"test_features:\", test_features)\n",
    "print(\"train_labels:\", train_labels)\n",
    "print(\"test_labels:\", test_labels)"
   ]
  },
  {
   "cell_type": "code",
   "execution_count": 19,
   "metadata": {
    "tags": []
   },
   "outputs": [
    {
     "name": "stdout",
     "output_type": "stream",
     "text": [
      "Classical SVC on the training dataset: 0.50\n",
      "Classical SVC on the test dataset:     0.53\n"
     ]
    }
   ],
   "source": [
    "train_score_c4 = svc.score(train_features, train_labels)\n",
    "test_score_c4 = svc.score(test_features, test_labels)\n",
    "\n",
    "print(f\"Classical SVC on the training dataset: {train_score_c4:.2f}\")\n",
    "print(f\"Classical SVC on the test dataset:     {test_score_c4:.2f}\")"
   ]
  },
  {
   "cell_type": "code",
   "execution_count": 20,
   "metadata": {
    "tags": []
   },
   "outputs": [
    {
     "name": "stdout",
     "output_type": "stream",
     "text": [
      "Requirement already satisfied: pylatexenc in c:\\users\\davec\\anaconda3\\envs\\entornogpu\\lib\\site-packages (2.10)\n",
      "Note: you may need to restart the kernel to use updated packages.\n"
     ]
    }
   ],
   "source": [
    "pip install pylatexenc"
   ]
  },
  {
   "cell_type": "code",
   "execution_count": 20,
   "metadata": {
    "tags": []
   },
   "outputs": [
    {
     "name": "stdout",
     "output_type": "stream",
     "text": [
      "Columnas: 8\n"
     ]
    },
    {
     "data": {
      "image/png": "[encoded data removed]",
      "text/plain": [
       "<Figure size 1591.6x2131.08 with 1 Axes>"
      ]
     },
     "execution_count": 20,
     "metadata": {},
     "output_type": "execute_result"
    }
   ],
   "source": [
    "###################################################################################\n",
    "# Quantum Machine Learning                                                        #\n",
    "# 18/07/2023, Hecho por: David Castillo  - Campus Agramonte                       #\n",
    "###################################################################################\n",
    "from qiskit.utils import algorithm_globals\n",
    "from qiskit.circuit.library import ZZFeatureMap\n",
    "\n",
    "num_features = features.shape[1]\n",
    "print('Columnas:', num_features)\n",
    "feature_map = ZZFeatureMap(feature_dimension=num_features, reps=1)\n",
    "feature_map.decompose().draw(output=\"mpl\", fold=25)"
   ]
  },
  {
   "cell_type": "code",
   "execution_count": 21,
   "metadata": {
    "tags": []
   },
   "outputs": [
    {
     "data": {
      "image/png": "[encoded data removed]",
      "text/plain": [
       "<Figure size 989.597x505.68 with 1 Axes>"
      ]
     },
     "execution_count": 21,
     "metadata": {},
     "output_type": "execute_result"
    }
   ],
   "source": [
    "from qiskit.circuit.library import RealAmplitudes\n",
    "ansatz = RealAmplitudes(num_qubits=num_features, reps=3)\n",
    "ansatz.decompose().draw(output=\"mpl\", fold=20)"
   ]
  },
  {
   "cell_type": "code",
   "execution_count": 22,
   "metadata": {
    "tags": []
   },
   "outputs": [],
   "source": [
    "from qiskit.algorithms.optimizers import COBYLA\n",
    "optimizer = COBYLA(maxiter=1500)"
   ]
  },
  {
   "cell_type": "code",
   "execution_count": 23,
   "metadata": {
    "tags": []
   },
   "outputs": [],
   "source": [
    "from qiskit.primitives import Sampler\n",
    "sampler = Sampler()"
   ]
  },
  {
   "cell_type": "code",
   "execution_count": 24,
   "metadata": {
    "tags": []
   },
   "outputs": [],
   "source": [
    "from matplotlib import pyplot as plt\n",
    "from IPython.display import clear_output\n",
    "\n",
    "objective_func_vals = []\n",
    "plt.rcParams[\"figure.figsize\"] = (12, 6)\n",
    "\n",
    "\n",
    "def callback_graph(weights, obj_func_eval):\n",
    "    clear_output(wait=True)\n",
    "    objective_func_vals.append(obj_func_eval)\n",
    "    plt.title(\"Objective function value against iteration\")\n",
    "    plt.xlabel(\"Iteration\")\n",
    "    plt.ylabel(\"Objective function value\")\n",
    "    plt.plot(range(len(objective_func_vals)), objective_func_vals)\n",
    "    plt.show()"
   ]
  },
  {
   "cell_type": "code",
   "execution_count": 25,
   "metadata": {
    "tags": []
   },
   "outputs": [
    {
     "data": {
      "text/plain": [
       "(298, 8)"
      ]
     },
     "execution_count": 25,
     "metadata": {},
     "output_type": "execute_result"
    }
   ],
   "source": [
    "train_features.shape"
   ]
  },
  {
   "cell_type": "code",
   "execution_count": 26,
   "metadata": {
    "tags": []
   },
   "outputs": [
    {
     "data": {
      "text/plain": [
       "(298,)"
      ]
     },
     "execution_count": 26,
     "metadata": {},
     "output_type": "execute_result"
    }
   ],
   "source": [
    "train_labels.shape"
   ]
  },
  {
   "cell_type": "code",
   "execution_count": null,
   "metadata": {},
   "outputs": [],
   "source": [
    "#!pip install qiskit-machine-learning"
   ]
  },
  {
   "cell_type": "code",
   "execution_count": null,
   "metadata": {
    "tags": []
   },
   "outputs": [
    {
     "data": {
      "image/png": "[encoded data removed]",
      "text/plain": [
       "<Figure size 864x432 with 1 Axes>"
      ]
     },
     "metadata": {
      "needs_background": "light"
     },
     "output_type": "display_data"
    }
   ],
   "source": [
    "import time\n",
    "\n",
    "from qiskit_machine_learning.algorithms.classifiers import VQC\n",
    "\n",
    "\n",
    "vqc = VQC(\n",
    "    sampler=sampler,\n",
    "    feature_map=feature_map,\n",
    "    ansatz=ansatz,\n",
    "    optimizer=optimizer,\n",
    "    callback=callback_graph,\n",
    ")\n",
    "\n",
    "# clear objective value history\n",
    "objective_func_vals = []\n",
    "\n",
    "start = time.time()\n",
    "vqc.fit(train_features, train_labels)\n",
    "elapsed = time.time() - start\n",
    "\n",
    "print(f\"Training time: {round(elapsed)} seconds\")"
   ]
  },
  {
   "cell_type": "code",
   "execution_count": null,
   "metadata": {
    "tags": []
   },
   "outputs": [],
   "source": [
    "train_score_q4_ra = vqc.score(train_features, train_labels)\n",
    "test_score_q4_ra = vqc.score(test_features, test_labels)\n",
    "\n",
    "print(f\"Quantum VQC RealAmplitudes on the training dataset: {train_score_q4_ra:.2f}\")\n",
    "print(f\"Quantum VQC RealAmplitudes on the test dataset:     {test_score_q4_ra:.2f}\")\n",
    "\n"
   ]
  },
  {
   "cell_type": "code",
   "execution_count": null,
   "metadata": {},
   "outputs": [],
   "source": [
    "from qiskit.circuit.library import EfficientSU2\n",
    "\n",
    "ansatz = EfficientSU2(num_qubits=num_features, reps=3)\n",
    "ansatz.decompose().draw(output=\"mpl\", fold=20)"
   ]
  },
  {
   "cell_type": "code",
   "execution_count": null,
   "metadata": {},
   "outputs": [],
   "source": [
    "import time\n",
    "from qiskit_machine_learning.algorithms.classifiers import VQC\n",
    "\n",
    "vqc = VQC(\n",
    "    sampler=sampler,\n",
    "    feature_map=feature_map,\n",
    "    ansatz=ansatz,\n",
    "    optimizer=optimizer,\n",
    "    callback=callback_graph,\n",
    ")\n",
    "\n",
    "# clear objective value history\n",
    "objective_func_vals = []\n",
    "\n",
    "start = time.time()\n",
    "vqc.fit(train_features, train_labels)\n",
    "elapsed = time.time() - start\n",
    "\n",
    "print(f\"Training time: {round(elapsed)} seconds\")"
   ]
  },
  {
   "cell_type": "code",
   "execution_count": null,
   "metadata": {},
   "outputs": [],
   "source": [
    "train_score_q4_eff = vqc.score(train_features, train_labels)\n",
    "test_score_q4_eff = vqc.score(test_features, test_labels)\n",
    "\n",
    "print(f\"Quantum VQC EfficientSU2 on the training dataset: {train_score_q4_eff:.2f}\")\n",
    "print(f\"Quantum VQC EfficientSU2 on the test dataset:     {test_score_q4_eff:.2f}\")"
   ]
  },
  {
   "cell_type": "code",
   "execution_count": null,
   "metadata": {},
   "outputs": [],
   "source": [
    "###################################################################################\n",
    "# Reducing the Number of Features With Principal Component Analysis (PCA)         #\n",
    "# 20/06/2023, Hecho por: David Castillo  - Campus Agramonte                       #\n",
    "###################################################################################\n",
    "from sklearn.decomposition import PCA\n",
    "\n",
    "features = PCA(n_components=2).fit_transform(features)\n",
    "\n",
    "plt.rcParams[\"figure.figsize\"] = (6, 6)\n",
    "sns.scatterplot(x=features[:, 0], y=features[:, 1], hue=labels, palette=\"tab10\")"
   ]
  },
  {
   "cell_type": "code",
   "execution_count": null,
   "metadata": {},
   "outputs": [],
   "source": [
    "########################\n",
    "#DESDE AUQI SON PRUEBAS#\n",
    "########################"
   ]
  },
  {
   "cell_type": "code",
   "execution_count": null,
   "metadata": {
    "tags": []
   },
   "outputs": [],
   "source": [
    "from sklearn.preprocessing import LabelEncoder\n",
    "\n",
    "# Crear una instancia del codificador de etiquetas\n",
    "label_encoder = LabelEncoder()\n",
    "\n",
    "# Aplicar la codificación a la columna \"Group\"\n",
    "data[\"Group\"] = label_encoder.fit_transform(data[\"Group\"])"
   ]
  },
  {
   "cell_type": "code",
   "execution_count": null,
   "metadata": {
    "tags": []
   },
   "outputs": [],
   "source": [
    "from sklearn.model_selection import train_test_split\n",
    "from sklearn.svm import SVC\n",
    "from sklearn.impute import SimpleImputer\n",
    "\n",
    "# Reemplaza \"Group\", \"M/F\", \"Age\", \"EDUC\", \"SES\", \"MMSE\", \"CDR\", \"eTIV\", \"nWBV\", \"ASF\" con los nombres reales de las columnas en tu base de datos\n",
    "#features = data[[\"Group\", \"M/F\", \"Age\", \"EDUC\", \"SES\", \"MMSE\", \"CDR\", \"eTIV\", \"nWBV\", \"ASF\"]]\n",
    "#labels = data[\"Etiqueta\"]  # Reemplaza \"Etiqueta\" con el nombre real de la columna de etiquetas en tu base de datos\n",
    "features = data[['Age', 'EDUC', 'SES', 'MMSE', 'CDR', 'eTIV', 'nWBV', 'ASF']]  # Reemplaza 'caracteristica1', 'caracteristica2', etc. por los nombres reales de las características en tu base de datos\n",
    "labels = data['Group']  # Reemplaza 'etiqueta' por el nombre real de la columna de etiquetas en tu base de datos\n",
    "\n",
    "# Dividir los datos en conjuntos de entrenamiento y prueba\n",
    "train_features, test_features, train_labels, test_labels = train_test_split(\n",
    "    features, labels, train_size=0.8, random_state=123\n",
    ")\n",
    "# Manejar los valores faltantes en los datos de entrenamiento y prueba si es necesario\n",
    "imputer = SimpleImputer(strategy='mean')  # Puedes ajustar la estrategia según tus necesidades\n",
    "train_features = imputer.fit_transform(train_features)\n",
    "test_features = imputer.transform(test_features)\n",
    "\n",
    "# Crear el modelo SVM\n",
    "svc = SVC()\n",
    "\n",
    "# Ajustar el modelo con los datos de entrenamiento\n",
    "svc.fit(train_features, train_labels)\n",
    "\n",
    "# Realizar predicciones en los datos de prueba\n",
    "y_pred = svc.predict(test_features)\n",
    "\n",
    "# Imprimir las predicciones\n",
    "print(y_pred)\n"
   ]
  },
  {
   "cell_type": "code",
   "execution_count": null,
   "metadata": {
    "tags": []
   },
   "outputs": [],
   "source": [
    "import pandas as pd\n",
    "from sklearn.model_selection import train_test_split\n",
    "from sklearn.linear_model import LogisticRegression\n",
    "from sklearn.metrics import accuracy_score\n",
    "\n",
    "# Cargar la base de datos desde un archivo CSV\n",
    "data = pd.read_csv(filename)\n",
    "\n",
    "features = data[['Age','EDUC','SES','MMSE','CDR','eTIV','nWBV','ASF','Group']]  # Reemplaza 'caracteristica1', 'caracteristica2', etc. por los nombres reales de las características en tu base de datos\n",
    "labels = data['Group']  # Reemplaza 'etiqueta' por el nombre real de la columna de etiquetas en tu base de datos\n",
    "\n",
    "# Convertir las características y las etiquetas a arrays de NumPy\n",
    "features_array = np.array(features)\n",
    "labels_array = np.array(labels)\n",
    "\n",
    "# Imprimir los arrays de características y etiquetas\n",
    "print(\"Características:\")\n",
    "print(features_array)\n",
    "print(\"Etiquetas:\")\n",
    "print(labels_array)\n",
    "sns.pairplot(df, hue=\"Group\", palette=\"tab10\")"
   ]
  },
  {
   "cell_type": "code",
   "execution_count": null,
   "metadata": {},
   "outputs": [],
   "source": [
    "import pandas as pd\n",
    "from sklearn.preprocessing import LabelEncoder\n",
    "\n",
    "# Crear un DataFrame de ejemplo\n",
    "data = pd.DataFrame({'Fruit': ['Apple', 'Banana', 'Orange', 'Apple', 'Orange']})\n",
    "\n",
    "# Crear una instancia del codificador de etiquetas\n",
    "label_encoder = LabelEncoder()\n",
    "\n",
    "# Aplicar la codificación a la columna \"Fruit\"\n",
    "data['Fruit_encoded'] = label_encoder.fit_transform(data['Fruit'])\n",
    "\n",
    "# Mostrar el resultado\n",
    "print(data)"
   ]
  },
  {
   "cell_type": "code",
   "execution_count": null,
   "metadata": {
    "tags": []
   },
   "outputs": [],
   "source": [
    "import pandas as pd\n",
    "from sklearn.preprocessing import LabelEncoder\n",
    "\n",
    "# Crear un DataFrame de ejemplo\n",
    "data = pd.DataFrame({'Group': ['Nondemented', 'Demented', 'Converted']})\n",
    "\n",
    "# Crear una instancia del codificador de etiquetas\n",
    "label_encoder = LabelEncoder()\n",
    "\n",
    "# Aplicar la codificación a la columna \"Fruit\"\n",
    "data['Group_encoded'] = label_encoder.fit_transform(data['Group'])\n",
    "\n",
    "# Mostrar el resultado\n",
    "print(data)"
   ]
  },
  {
   "cell_type": "code",
   "execution_count": null,
   "metadata": {},
   "outputs": [],
   "source": [
    "features = data[['Age', 'EDUC', 'SES', 'MMSE', 'CDR', 'eTIV', 'nWBV', 'ASF']]  s\n",
    "labels = data['Group']  # Reemplaza 'etiqueta' por el nombre r"
   ]
  },
  {
   "cell_type": "code",
   "execution_count": null,
   "metadata": {
    "tags": []
   },
   "outputs": [],
   "source": [
    "from sklearn.datasets import load_iris\n",
    "from sklearn.model_selection import train_test_split\n",
    "from qiskit.utils import algorithm_globals\n",
    "\n",
    "# Cargar la base de datos Iris\n",
    "iris_data = load_iris()\n",
    "\n",
    "# Obtener características (features) y etiquetas (labels)\n",
    "features = iris_data.data\n",
    "labels = iris_data.target\n",
    "\n",
    "# Dividir los datos en conjuntos de entrenamiento y prueba\n",
    "#train_features, test_features, train_labels, test_labels = train_test_split(features, labels, test_size=0.2, random_state=42)\n",
    "train_features, test_features, train_labels, test_labels = train_test_split(features, labels, train_size=0.8, random_state=algorithm_globals.random_seed)\n",
    "\n",
    "# Imprimir los valores de los conjuntos de entrenamiento y prueba\n",
    "print(\"train_features:\", train_features)\n",
    "print(\"test_features:\", test_features)\n",
    "print(\"train_labels:\", train_labels)\n",
    "print(\"test_labels:\", test_labels)"
   ]
  },
  {
   "cell_type": "code",
   "execution_count": null,
   "metadata": {
    "tags": []
   },
   "outputs": [],
   "source": [
    "from sklearn.datasets import load_iris\n",
    "from sklearn.model_selection import train_test_split\n",
    "from qiskit.utils import algorithm_globals\n",
    "from sklearn.preprocessing import LabelEncoder\n",
    "import os\n",
    "\n",
    "# Especificar el directorio al que deseas cambiar\n",
    "#directory = \"/ruta/al/directorio\"\n",
    "directory = \"C:/RESPALDOS/Investigación/Artículos/Articulo8/BDD/DataSets\"\n",
    "\n",
    "# Cambiar al directorio especificado\n",
    "os.chdir(directory)\n",
    "\n",
    "# Verificar el directorio actual\n",
    "current_directory = os.getcwd()\n",
    "print(\"Directorio actual:\", current_directory)\n",
    "\n",
    "import pandas as pd\n",
    "# Cargar el archivo CSV\n",
    "filename = \"alzheimer.csv\"\n",
    "data = pd.read_csv(filename)\n",
    "\n",
    "#print(data.head())\n",
    "\n",
    "# Crear una instancia del codificador de etiquetas\n",
    "label_encoder = LabelEncoder()\n",
    "\n",
    "data['Group'] = data['Group'].replace({0: 'Converted', 1: 'Demented', 2: 'Nondemented'})\n",
    "data['Group_encoder'] = label_encoder.fit_transform(data['Group'])\n",
    "print(data)\n",
    "\n",
    "data = data.fillna(data.mean())  # Reemplazar valores faltantes con la media\n",
    "\n",
    "features = data[['Age', 'EDUC', 'SES', 'MMSE', 'CDR', 'eTIV', 'nWBV', 'ASF']]  # Reemplaza 'caracteristica1', 'caracteristica2', etc. por los nombres reales de las características en tu base de datos\n",
    "labels = data['Group_encoder']  # Reemplaza 'etiqueta' por el nombre real de la columna de etiquetas en tu base de datos\n",
    "\n",
    "features = features.astype(int)\n",
    "#features = features.round(2)\n",
    "\n",
    "# Convertir las características y las etiquetas a arrays de NumPy\n",
    "features_array = np.array(features)\n",
    "labels_array = np.array(labels)\n",
    "\n",
    "\n",
    "# Dividir los datos en conjuntos de entrenamiento y prueba\n",
    "#train_features, test_features, train_labels, test_labels = train_test_split(features, labels, test_size=0.2, random_state=42)\n",
    "train_features, test_features, train_labels, test_labels = train_test_split(features_array, labels_array, train_size=0.8, random_state=algorithm_globals.random_seed)\n",
    "\n",
    "#train_features = train_features.astype(int)\n",
    "#train_features, test_features, train_labels, test_labels = train_test_split(features_array, labels_array, train_size=0.8, random_state=42)\n",
    "\n",
    "# Imprimir los valores de los conjuntos de entrenamiento y prueba\n",
    "print(\"train_features:\", train_features)\n",
    "print(\"test_features:\", test_features)\n",
    "print(\"train_labels:\", train_labels)\n",
    "print(\"test_labels:\", test_labels)\n",
    "\n"
   ]
  },
  {
   "cell_type": "code",
   "execution_count": null,
   "metadata": {},
   "outputs": [],
   "source": []
  },
  {
   "cell_type": "code",
   "execution_count": null,
   "metadata": {},
   "outputs": [],
   "source": []
  }
 ],
 "metadata": {
  "kernelspec": {
   "display_name": "entornoGPU",
   "language": "python",
   "name": "entornogpu"
  },
  "language_info": {
   "codemirror_mode": {
    "name": "ipython",
    "version": 3
   },
   "file_extension": ".py",
   "mimetype": "text/x-python",
   "name": "python",
   "nbconvert_exporter": "python",
   "pygments_lexer": "ipython3",
   "version": "3.7.7"
  }
 },
 "nbformat": 4,
 "nbformat_minor": 5
}
